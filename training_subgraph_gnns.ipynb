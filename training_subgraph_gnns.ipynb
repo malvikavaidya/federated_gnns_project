{
  "cells": [
    {
      "cell_type": "code",
      "execution_count": 3,
      "metadata": {
        "id": "YfOMRdZQAccz"
      },
      "outputs": [],
      "source": [
        "import os\n",
        "import networkx as nx\n",
        "import torch\n",
        "import torch.nn.functional as F\n",
        "from torch_geometric.nn import GCNConv\n",
        "from torch_geometric.datasets import Planetoid\n",
        "from torch_geometric.utils import from_networkx\n",
        "from torch_geometric.utils import subgraph\n",
        "from torch_geometric.data import Data\n",
        "from torch_geometric.data import DataLoader\n",
        "from torch_geometric.data import Dataset\n",
        "from sklearn.model_selection import train_test_split\n",
        "import copy"
      ]
    },
    {
      "cell_type": "code",
      "execution_count": null,
      "metadata": {
        "colab": {
          "base_uri": "https://localhost:8080/"
        },
        "id": "alQx48NCAcdA",
        "outputId": "bc0eb827-ff7a-4dde-86cb-7073814de851"
      },
      "outputs": [],
      "source": [
        "# reading from second order neighbors file to build subgraphs in a list called sub_data_list\n",
        "torch.manual_seed(1234567)\n",
        "dataset = Planetoid(root='/tmp/Cora', name='Cora')\n",
        "data = dataset[0]\n",
        "\n",
        "folder_path = 'second_order_client_neighbors'\n",
        "sub_data_list = []\n",
        "client_number = []\n",
        "\n",
        "for filename in os.listdir(folder_path):\n",
        "    if filename.endswith('.gml'):\n",
        "      \n",
        "        file_path = os.path.join(folder_path, filename)\n",
        "        g = nx.read_gml(file_path)\n",
        "\n",
        "        subgraph_nodes = list(g.nodes)\n",
        "        subgraph_nodes = [int(node) for node in subgraph_nodes]  # Convert to integer if they are not\n",
        "\n",
        "        sub_edge_index, _ = subgraph(subgraph_nodes, data.edge_index, relabel_nodes=True)\n",
        "        print(sub_edge_index.shape)\n",
        "\n",
        "        sub_data = Data(x=data.x[subgraph_nodes], edge_index=sub_edge_index, y=data.y[subgraph_nodes])\n",
        "        sub_data_list.append(sub_data)\n",
        "        client_number.append(int(filename.split('.')[0].split('_')[1]))\n"
      ]
    },
    {
      "cell_type": "code",
      "execution_count": 5,
      "metadata": {
        "id": "UyWFwhBzAcdE"
      },
      "outputs": [],
      "source": [
        "# reading from second order test graph to build test graph called test_data\n",
        "test_data = None\n",
        "\n",
        "g = nx.read_gml('drive/MyDrive/federated_gnns_project/second_order_test_graph.gml')\n",
        "subgraph_nodes = list(g.nodes)\n",
        "subgraph_nodes = [int(node) for node in subgraph_nodes]  # Convert to integer if they are not\n",
        "sub_edge_index, _ = subgraph(subgraph_nodes, data.edge_index, relabel_nodes=True)\n",
        "test_data = Data(x=data.x[subgraph_nodes], edge_index=sub_edge_index, y=data.y[subgraph_nodes])\n",
        "\n"
      ]
    },
    {
      "cell_type": "code",
      "execution_count": null,
      "metadata": {
        "colab": {
          "base_uri": "https://localhost:8080/"
        },
        "id": "OtLYIvJ4AcdH",
        "outputId": "a821f11b-809e-4c71-8d00-ba109915cf65"
      },
      "outputs": [],
      "source": [
        "# readingin in the facebook network to build a neighbors dictionary for each node\n",
        "g = nx.read_gml('drive/MyDrive/federated_gnns_project/new_facebook_network.gml')\n",
        "neighbors = {}\n",
        "\n",
        "for node in g.nodes:\n",
        "    neighbors[node] = list(g.neighbors(node))\n",
        "\n",
        "print(neighbors)"
      ]
    },
    {
      "cell_type": "code",
      "execution_count": 7,
      "metadata": {
        "id": "SGFOCtr5AcdI"
      },
      "outputs": [],
      "source": [
        "# read new_facebook_network.gml and create a fully connected graph\n",
        "\n",
        "neighbors_fully_connected = {}\n",
        "for node in g.nodes:\n",
        "    neighbors_fully_connected[node] = list(g.nodes)\n",
        "    neighbors_fully_connected[node].remove(node)"
      ]
    },
    {
      "cell_type": "code",
      "execution_count": 8,
      "metadata": {
        "colab": {
          "base_uri": "https://localhost:8080/"
        },
        "id": "bbB11oc-AcdJ",
        "outputId": "3e6b86f0-9313-435d-bc55-833081a8ab4a"
      },
      "outputs": [
        {
          "name": "stdout",
          "output_type": "stream",
          "text": [
            "Data(x=[59, 1433], edge_index=[2, 160], y=[59])\n",
            "torch.Size([59, 1433])\n",
            "<class 'list'>\n"
          ]
        }
      ],
      "source": [
        "print(sub_data_list[0])\n",
        "print(sub_data_list[0].x.shape)\n",
        "print(type(client_number))"
      ]
    },
    {
      "cell_type": "code",
      "execution_count": 9,
      "metadata": {
        "id": "iJ77wSQ7AcdL"
      },
      "outputs": [],
      "source": [
        "#keep a list of training and validation loss per epoch for each subgraph\n",
        "train_losses = []\n",
        "val_losses = []"
      ]
    },
    {
      "cell_type": "markdown",
      "metadata": {
        "id": "z6G6PWvkAcdQ"
      },
      "source": [
        "# Model Architectures"
      ]
    },
    {
      "cell_type": "code",
      "execution_count": 11,
      "metadata": {
        "id": "D8sQXMCqAcdU"
      },
      "outputs": [],
      "source": [
        "# GCN model\n",
        "from torch_geometric.nn import GCNConv\n",
        "\n",
        "device = torch.device('cuda' if torch.cuda.is_available() else 'cpu')\n",
        "\n",
        "class GCN(torch.nn.Module):\n",
        "    def __init__(self, num_features, num_classes):\n",
        "        super().__init__()\n",
        "        self.conv1 = GCNConv(num_features, 32)\n",
        "        self.conv2 = GCNConv(32, num_classes)\n",
        "\n",
        "    def forward(self, x, edge_index):\n",
        "        x = self.conv1(x, edge_index)\n",
        "        x = x.relu()\n",
        "        x = F.dropout(x, p=0.5, training=self.training) # p = 0.25\n",
        "        x = self.conv2(x, edge_index)\n",
        "        return x\n",
        "\n",
        "\n",
        "model = GCN(sub_data.num_node_features, dataset.num_classes).to(device)"
      ]
    },
    {
      "cell_type": "code",
      "execution_count": 12,
      "metadata": {
        "id": "ao21m0ESAcdZ"
      },
      "outputs": [],
      "source": [
        "#GAT model\n",
        "from torch_geometric.nn import GATConv\n",
        "\n",
        "class GAT(torch.nn.Module):\n",
        "    def __init__(self, num_features, num_classes):\n",
        "        super().__init__()\n",
        "        self.conv1 = GATConv(num_features, 8, heads=8, dropout=0.6)\n",
        "        self.conv2 = GATConv(8 * 8, num_classes, heads=1, concat=False, dropout=0.6)\n",
        "\n",
        "    def forward(self, x, edge_index):\n",
        "        x = self.conv1(x, edge_index)\n",
        "        x = x.relu()\n",
        "        x = F.dropout(x, p=0.6, training=self.training)\n",
        "        x = self.conv2(x, edge_index)\n",
        "        return x"
      ]
    },
    {
      "cell_type": "markdown",
      "metadata": {
        "id": "pJxzvEtpAcda"
      },
      "source": [
        "# Train, Test, Validation, and Intial Training Methods"
      ]
    },
    {
      "cell_type": "code",
      "execution_count": 13,
      "metadata": {
        "id": "aGKiQy5fAcda"
      },
      "outputs": [],
      "source": [
        "import matplotlib.pyplot as plt\n",
        "\n",
        "def train(sub_data, model, optimizer, criterion):\n",
        "      #put data on device\n",
        "      sub_data = sub_data.to(device)\n",
        "      model.train()\n",
        "      optimizer.zero_grad()\n",
        "      out = model(sub_data.x, sub_data.edge_index)  # Perform a single forward pass.\n",
        "      loss = criterion(out, sub_data.y)  # Compute the loss solely based on the training nodes.\n",
        "      loss.backward()\n",
        "      optimizer.step()\n",
        "      return loss\n",
        "\n",
        "def train_batch(sub_data_loader, model, optimizer, criterion):\n",
        "    for i, data in enumerate(sub_data_loader):\n",
        "        x, edge_index, y, idx = data\n",
        "        nodes = list(idx)\n",
        "        sub_edge_index, _ = subgraph(nodes, edge_index[0], relabel_nodes=True)\n",
        "        x = x.to(device)\n",
        "        edge_index = edge_index.to(device)\n",
        "        y = y.to(device)\n",
        "        model.train()\n",
        "        optimizer.zero_grad()\n",
        "        out = model(x, sub_edge_index)\n",
        "        loss = criterion(out, y)\n",
        "        loss.backward(sub_edge_index)\n",
        "        optimizer.step()\n",
        "    return loss\n",
        "\n",
        "\n",
        "def test(test_data, criterion, model):\n",
        "      test_data = test_data.to(device)\n",
        "      model.eval()\n",
        "      out = model(test_data.x, test_data.edge_index)\n",
        "      pred = out.argmax(dim=1)  # Use the class with highest probability.\n",
        "      test_correct = pred == test_data.y # Check against ground-truth labels.\n",
        "      test_acc = int(test_correct.sum()) / len(test_data.y)  # Derive ratio of correct predictions.\n",
        "      test_loss = criterion(out, test_data.y)  # Compute validation loss\n",
        "\n",
        "      return test_loss, test_acc\n",
        "\n",
        "\n",
        "def validate(test_data, model, criterion):\n",
        "    test_data = test_data.to(device)\n",
        "    model.eval()  # Set the model to evaluation mode\n",
        "    with torch.no_grad():  # Do not compute gradients during this step\n",
        "        out = model(test_data.x, test_data.edge_index)  # Forward pass\n",
        "        pred = out.argmax(dim=1)  # Get predicted classes\n",
        "        val_correct = pred == test_data.y # Compare with ground-truth\n",
        "        val_loss = criterion(out, test_data.y)  # Compute validation loss\n",
        "        val_acc = int(val_correct.sum()) / int(len(test_data.y))  # Compute validation accuracy\n",
        "    return val_loss.item(), val_acc  # Return validation loss and accuracy\n",
        "\n",
        "# initial training doesn't account for communication\n",
        "def initial_training(epochs, learning_rate):\n",
        "    test_losses = []\n",
        "    test_accs = []\n",
        "    dictionary_t_1 = {}\n",
        "    dictionary_t = {}\n",
        "\n",
        "    for i in range(len(sub_data_list)):\n",
        "        sub_data = sub_data_list[i]\n",
        "        model = GCN(sub_data.num_node_features, dataset.num_classes).to(device)\n",
        "        optimizer = torch.optim.Adam(model.parameters(), lr=learning_rate, weight_decay=5e-4)\n",
        "        criterion = torch.nn.CrossEntropyLoss()\n",
        "        train_losses = []\n",
        "        val_losses = []\n",
        "\n",
        "        # Training loop for each epoch (adjust the range as needed)\n",
        "        for epoch in range(1, epochs + 1):\n",
        "            train_loss = train(sub_data, model, optimizer, criterion)  # Assuming 'train' returns a loss\n",
        "            val_loss, _ = validate(test_data, model, criterion)         # Assuming 'validate' returns a loss and something else (like accuracy)\n",
        "\n",
        "            train_losses.append(train_loss)\n",
        "            val_losses.append(val_loss)\n",
        "\n",
        "\n",
        "        test_loss, test_acc = test(test_data, criterion, model)\n",
        "        test_losses.append(test_loss.item())\n",
        "        test_accs.append(test_acc)\n",
        "        row = i // 10\n",
        "        col = i % 10\n",
        "\n",
        "        model_weights = model.state_dict()\n",
        "        client_number_num = client_number[i]\n",
        "        dictionary_t_1[client_number_num] = model_weights\n",
        "\n",
        "    return dictionary_t_1, test_losses, test_accs"
      ]
    },
    {
      "cell_type": "markdown",
      "metadata": {
        "id": "JrgYUGQxAcdc"
      },
      "source": [
        "## Aggregation Techniques"
      ]
    },
    {
      "cell_type": "code",
      "execution_count": 14,
      "metadata": {
        "id": "FwM-941VAcdc"
      },
      "outputs": [],
      "source": [
        "def fed_avg(models):\n",
        "    global_model = copy.deepcopy(models[0]) # start with the first model\n",
        "    for k in global_model.keys():\n",
        "        global_model[k] = torch.stack([model[k].float() for model in models], 0).mean(0)\n",
        "    return global_model"
      ]
    },
    {
      "cell_type": "code",
      "execution_count": 15,
      "metadata": {
        "id": "1M9xrwXIAcdd"
      },
      "outputs": [],
      "source": [
        "import numpy as np\n",
        "def weighted_fed_avg(models, accuracies):\n",
        "    #model and accuracies are dictionaries\n",
        "    accuracies = np.exp(accuracies)\n",
        "    global_model = copy.deepcopy(models[0]) # start with the first model\n",
        "    for k in global_model.keys():\n",
        "        weighted_sum = 0\n",
        "        for i in range(len(models)):\n",
        "            weighted_sum += accuracies[i] * models[i][k].float()\n",
        "        global_model[k] = weighted_sum / sum(accuracies)\n",
        "    return global_model"
      ]
    },
    {
      "cell_type": "code",
      "execution_count": 16,
      "metadata": {
        "id": "LSdz44VIAcdd"
      },
      "outputs": [],
      "source": [
        "#rank based weighted average\n",
        "\n",
        "def rank_based_weighted_avg(models, accuracies):\n",
        "    global_model = copy.deepcopy(models[0]) # start with the first model\n",
        "    accuracies = np.array(accuracies)\n",
        "    sorted_indices = np.argsort(accuracies)\n",
        "    for k in global_model.keys():\n",
        "        weighted_sum = 0\n",
        "        for i in range(len(models)):\n",
        "            weighted_sum += (len(models) - np.where(sorted_indices == i)[0][0]) * models[i][k].float()\n",
        "        global_model[k] = weighted_sum / sum(range(1, len(models) + 1))\n",
        "    return global_model"
      ]
    },
    {
      "cell_type": "code",
      "execution_count": 17,
      "metadata": {
        "id": "Hi2ovsgpcvaF"
      },
      "outputs": [],
      "source": [
        "def exponential_weighted_fed_avg(models, accuracies):\n",
        "    accuracies = np.exp(accuracies) / np.sum(np.exp(accuracies))\n",
        "    global_model = copy.deepcopy(models[0]) # start with the first model\n",
        "    for k in global_model.keys():\n",
        "        weighted_sum = 0\n",
        "        for i in range(len(models)):\n",
        "            weighted_sum += accuracies[i] * models[i][k].float()\n",
        "        global_model[k] = weighted_sum / sum(accuracies)\n",
        "    return global_model"
      ]
    },
    {
      "cell_type": "code",
      "execution_count": 18,
      "metadata": {
        "id": "cE9sYKcmcxQ2"
      },
      "outputs": [],
      "source": [
        "def normalized_fed_avg(models, accuracies):\n",
        "    global_model = copy.deepcopy(models[0])\n",
        "    normalized_accuracies = [float(i)/sum(accuracies) for i in accuracies]\n",
        "    for k in global_model.keys():\n",
        "        weighted_sum = 0\n",
        "        for i in range(len(models)):\n",
        "            weighted_sum += normalized_accuracies[i] * models[i][k].float()\n",
        "        global_model[k] = weighted_sum\n",
        "    return global_model"
      ]
    },
    {
      "cell_type": "code",
      "execution_count": 19,
      "metadata": {
        "id": "7lTq-VvpAcde"
      },
      "outputs": [],
      "source": [
        "#threshold based weighted average\n",
        "\n",
        "def threshold_based_weighted_avg(models, accuracies, threshold):\n",
        "    global_model = copy.deepcopy(models[0]) # start with the first model\n",
        "    accuracies_copy = copy.deepcopy(accuracies)\n",
        "    accuracies = np.array(accuracies)\n",
        "    accuracies[accuracies < threshold] = 0\n",
        "    #if all accuracies are below threshold, set threshold to current client's accuracy, which is first\n",
        "    if np.sum(accuracies) == 0:\n",
        "        threshold = accuracies_copy[0]\n",
        "        accuracies_copy = np.array(accuracies_copy)\n",
        "        accuracies_copy[accuracies_copy < threshold] = 0\n",
        "        accuracies = accuracies_copy\n",
        "    for k in global_model.keys():\n",
        "        weighted_sum = 0\n",
        "        for i in range(len(models)):\n",
        "            weighted_sum += accuracies[i] * models[i][k].float()\n",
        "        global_model[k] = weighted_sum / sum(accuracies)\n",
        "    return global_model"
      ]
    },
    {
      "cell_type": "code",
      "execution_count": 20,
      "metadata": {
        "id": "spjtKs-FAcde"
      },
      "outputs": [],
      "source": [
        "def greedy_averaging(models, accuracies):\n",
        "    #sort models by accuracy in descending order\n",
        "    accuracies = np.array(accuracies)\n",
        "    sorted_indices = np.argsort(accuracies)[::-1]\n",
        "    sorted_models = []\n",
        "    for i in range(len(models)):\n",
        "        sorted_models.append(models[sorted_indices[i]])\n",
        "    #start with the first model\n",
        "    global_model = copy.deepcopy(sorted_models[0])\n",
        "    #load weights into model\n",
        "    model = GCN(sub_data.num_node_features, dataset.num_classes).to(device)\n",
        "    criterion = torch.nn.CrossEntropyLoss()\n",
        "    model.load_state_dict(global_model)\n",
        "    test_accuracy = test(test_data, criterion, model)[1]\n",
        "    #now, average with the next model, if accuracy improves, keep it, otherwise, discard it\n",
        "    for i in range(1, len(models)):\n",
        "        model = GCN(sub_data.num_node_features, dataset.num_classes).to(device)\n",
        "        criterion = torch.nn.CrossEntropyLoss()\n",
        "        new_weights = global_model.copy()\n",
        "        for k in global_model.keys():\n",
        "            new_weights[k] = (global_model[k] + sorted_models[i][k]) / 2\n",
        "        model.load_state_dict(sorted_models[i])\n",
        "        new_test_accuracy = test(test_data, criterion, model)[1]\n",
        "        if new_test_accuracy > test_accuracy:\n",
        "            global_model = new_weights\n",
        "            test_accuracy = new_test_accuracy\n",
        "\n",
        "    return global_model"
      ]
    },
    {
      "cell_type": "markdown",
      "metadata": {
        "id": "dbvbEiCbAcdf"
      },
      "source": [
        "## Communication Mechanisms"
      ]
    },
    {
      "cell_type": "markdown",
      "metadata": {
        "id": "ydLYBWwcAcdf"
      },
      "source": [
        "Broadcast Communication"
      ]
    },
    {
      "cell_type": "code",
      "execution_count": 21,
      "metadata": {
        "id": "t1PexjltAcdf"
      },
      "outputs": [],
      "source": [
        "\n",
        "\n",
        "def communication(dictionary_t_1_og, neighbors, epochs, rounds, learning_rate):\n",
        "    # make a copy of dictionary_t_1\n",
        "    test_losses = []\n",
        "    test_accs = []\n",
        "\n",
        "    dictionary_t_1 = dictionary_t_1_og.copy()\n",
        "    dictionary_t = {}\n",
        "    t_1_accuracies = {}\n",
        "    for k in range(1, rounds + 1):\n",
        "\n",
        "    # get the neighbprs of each client\n",
        "        for i in range(len(sub_data_list)):\n",
        "            sub_data = sub_data_list[i]\n",
        "            model = GCN(sub_data.num_node_features, dataset.num_classes).to(device)\n",
        "            model.load_state_dict(dictionary_t_1[client_number[i]])\n",
        "            optimizer = torch.optim.Adam(model.parameters(), lr=learning_rate, weight_decay=5e-4)\n",
        "            criterion = torch.nn.CrossEntropyLoss()\n",
        "            train_losses = []\n",
        "            val_losses = []\n",
        "\n",
        "            # Training loop for each epoch (adjust the range as needed)\n",
        "            for epoch in range(1, epochs + 1):\n",
        "                train_loss = train(sub_data, model, optimizer, criterion)  # Assuming 'train' returns a loss\n",
        "                val_loss, _ = validate(test_data, model, criterion)         # Assuming 'validate' returns a loss and something else (like accuracy)\n",
        "                train_losses.append(train_loss)\n",
        "                val_losses.append(val_loss)\n",
        "\n",
        "            test_loss, test_acc = test(test_data, criterion, model)\n",
        "            if k == rounds:\n",
        "                test_losses.append(test_loss.item())\n",
        "                test_accs.append(test_acc)\n",
        "\n",
        "            # add the model weights to the t -1 dictionary\n",
        "            model_weights = model.state_dict()\n",
        "            client_number_num = client_number[i]\n",
        "            dictionary_t_1[client_number_num] = model_weights\n",
        "            t_1_accuracies[client_number_num] = test_acc\n",
        "\n",
        "        for i in range(100):\n",
        "            client_number_num = client_number[i]\n",
        "            # go through neighbors of client_number\n",
        "            string_client_num = str(client_number_num)\n",
        "            client_neighbors = neighbors[string_client_num]\n",
        "            neighbors_state_dicts = []\n",
        "            neighbors_state_dicts.append(dictionary_t_1[client_number_num])\n",
        "            accuracies = []\n",
        "            accuracies.append(t_1_accuracies[client_number_num])\n",
        "            for j in range(len(client_neighbors)):\n",
        "                # get model weights of neighbor\n",
        "                neighbor_model = dictionary_t_1[int(client_neighbors[j])]\n",
        "                neighbors_state_dicts.append(neighbor_model)\n",
        "                accuracies.append(t_1_accuracies[int(client_neighbors[j])])\n",
        "\n",
        "            #call fed_avg\n",
        "            average_state_dict = {}\n",
        "            average_state_dict = greedy_averaging(neighbors_state_dicts, accuracies)\n",
        "            dictionary_t[client_number_num] = average_state_dict\n",
        "\n",
        "        dictionary_t_1 = dictionary_t\n",
        "\n",
        "    return test_losses, test_accs\n",
        "\n",
        "\n"
      ]
    },
    {
      "cell_type": "code",
      "execution_count": 23,
      "metadata": {
        "id": "RQGCiV4NAcdg"
      },
      "outputs": [],
      "source": [
        "def gossip_communication(dictionary_t_1_og, neighbors, epochs, rounds, learning_rate):\n",
        "    # make a copy of dictionary_t_1\n",
        "    test_losses = []\n",
        "    test_accs = []\n",
        "\n",
        "    dictionary_t_1 = dictionary_t_1_og.copy()\n",
        "    dictionary_t = {}\n",
        "    t_1_accuracies = {}\n",
        "    for k in range(1, rounds + 1):\n",
        "\n",
        "    # get the neighbprs of each client\n",
        "        for i in range(len(sub_data_list)):\n",
        "            sub_data = sub_data_list[i]\n",
        "\n",
        "            model = GCN(sub_data.num_node_features, dataset.num_classes).to(device)\n",
        "            model.load_state_dict(dictionary_t_1[client_number[i]])\n",
        "\n",
        "            optimizer = torch.optim.Adam(model.parameters(), lr=learning_rate, weight_decay=5e-4)\n",
        "            criterion = torch.nn.CrossEntropyLoss()\n",
        "\n",
        "            train_losses = []\n",
        "            val_losses = []\n",
        "\n",
        "            # Training loop for each epoch (adjust the range as needed)\n",
        "            for epoch in range(1, epochs + 1):\n",
        "                train_loss = train(sub_data, model, optimizer, criterion)  # Assuming 'train' returns a loss\n",
        "                val_loss, _ = validate(test_data, model, criterion)         # Assuming 'validate' returns a loss and something else (like accuracy)\n",
        "                train_losses.append(train_loss)\n",
        "                val_losses.append(val_loss)\n",
        "\n",
        "            test_loss, test_acc = test(test_data, criterion, model)\n",
        "            if k == rounds:\n",
        "                test_losses.append(test_loss.item())\n",
        "                test_accs.append(test_acc)\n",
        "\n",
        "            # add the model weights to the t -1 dictionary\n",
        "            model_weights = model.state_dict()\n",
        "            client_number_num = client_number[i]\n",
        "            dictionary_t_1[client_number_num] = model_weights\n",
        "            t_1_accuracies[client_number_num] = test_acc\n",
        "\n",
        "        for i in range(100):\n",
        "            #each client sends its weights to a random neighbor, and that neighbor averages its weights with the received weights\n",
        "            client_number_num = client_number[i]\n",
        "            string_client_num = str(client_number_num)\n",
        "            client_neighbors = neighbors[string_client_num]\n",
        "\n",
        "            #pick a random neighbor\n",
        "            random_neighbor = np.random.choice(client_neighbors)\n",
        "            random_neighbor = int(random_neighbor)\n",
        "            random_neighbor_state_dict_prev = dictionary_t_1[random_neighbor]\n",
        "            average_state_dict = {}\n",
        "            average_state_dict = fed_avg([dictionary_t_1[client_number_num], random_neighbor_state_dict_prev])\n",
        "            models = [dictionary_t_1[client_number_num], random_neighbor_state_dict_prev]\n",
        "            t_1_accuracies_list = [t_1_accuracies[client_number_num], t_1_accuracies[random_neighbor]]\n",
        "            average_state_dict = fed_avg(models)\n",
        "            dictionary_t_1[client_number_num] = average_state_dict\n",
        "            dictionary_t[client_number_num] = average_state_dict\n",
        "\n",
        "        dictionary_t_1 = dictionary_t\n",
        "\n",
        "    return test_losses, test_accs"
      ]
    },
    {
      "cell_type": "markdown",
      "metadata": {
        "id": "9U9w7fc5Acdh"
      },
      "source": [
        "# Fully Connected Graph"
      ]
    },
    {
      "cell_type": "markdown",
      "metadata": {
        "id": "ytTtO4lqAcdh"
      },
      "source": [
        "## 1 epoch, 100 rounds"
      ]
    },
    {
      "cell_type": "code",
      "execution_count": null,
      "metadata": {
        "id": "n9UKVDGEAcdh",
        "outputId": "45c5c839-2725-407e-cc1b-67b5c47858c9"
      },
      "outputs": [
        {
          "name": "stdout",
          "output_type": "stream",
          "text": [
            "mean test loss before communication:  1.950941253900528\n",
            "mean test accuracy before communication:  0.15015974440894567\n",
            "mean test loss after communication:  2.0524680721759796\n",
            "mean test accuracy after communication:  0.1924281150159743\n"
          ]
        }
      ],
      "source": [
        "\n",
        "\n",
        "dictionary_t_1, test_losses, test_accs = initial_training(1)\n",
        "mean_test_losses = sum(test_losses)/len(test_losses)\n",
        "mean_test_accs = sum(test_accs)/len(test_accs)\n",
        "print(\"mean test loss before communication: \", mean_test_losses)\n",
        "print(\"mean test accuracy before communication: \", mean_test_accs)\n",
        "\n",
        "test_losses, test_accs = communication(dictionary_t_1, neighbors_fully_connected, 1, 100)\n",
        "mean_test_losses = sum(test_losses)/len(test_losses)\n",
        "mean_test_accs = sum(test_accs)/len(test_accs)\n",
        "print(\"mean test loss after communication: \", mean_test_losses)\n",
        "print(\"mean test accuracy after communication: \", mean_test_accs)"
      ]
    },
    {
      "cell_type": "markdown",
      "metadata": {
        "id": "T5AiagtEAcdi"
      },
      "source": [
        "## 5 epochs, 100 rounds"
      ]
    },
    {
      "cell_type": "code",
      "execution_count": null,
      "metadata": {
        "id": "yfB7l7dLAcdi",
        "outputId": "f18862e9-5a9e-4410-c5d7-d16783328d33"
      },
      "outputs": [
        {
          "name": "stdout",
          "output_type": "stream",
          "text": [
            "mean test loss before communication:  2.114197174310684\n",
            "mean test accuracy before communication:  0.15220447284345034\n",
            "mean test loss after communication:  2.6148978340625764\n",
            "mean test accuracy after communication:  0.25000000000000006\n"
          ]
        }
      ],
      "source": [
        "\n",
        "dictionary_t_1, test_losses, test_accs = initial_training(5)\n",
        "mean_test_losses = sum(test_losses)/len(test_losses)\n",
        "mean_test_accs = sum(test_accs)/len(test_accs)\n",
        "print(\"mean test loss before communication: \", mean_test_losses)\n",
        "print(\"mean test accuracy before communication: \", mean_test_accs)\n",
        "\n",
        "test_losses, test_accs = communication(dictionary_t_1, neighbors_fully_connected, 5, 100)\n",
        "mean_test_losses = sum(test_losses)/len(test_losses)\n",
        "mean_test_accs = sum(test_accs)/len(test_accs)\n",
        "print(\"mean test loss after communication: \", mean_test_losses)\n",
        "print(\"mean test accuracy after communication: \", mean_test_accs)"
      ]
    },
    {
      "cell_type": "markdown",
      "metadata": {
        "id": "33dsYcSPAcdj"
      },
      "source": [
        "## 10 epochs, 100 rounds"
      ]
    },
    {
      "cell_type": "code",
      "execution_count": null,
      "metadata": {
        "id": "eMrRhAiJAcdj",
        "outputId": "7dc71d99-6a66-45b2-80d7-7cff6dcc0957"
      },
      "outputs": [
        {
          "name": "stdout",
          "output_type": "stream",
          "text": [
            "mean test loss before communication:  2.7938966619968415\n",
            "mean test accuracy before communication:  0.15690095846645355\n",
            "mean test loss after communication:  2.931734937429428\n",
            "mean test accuracy after communication:  0.29412140575079876\n"
          ]
        }
      ],
      "source": [
        "dictionary_t_1, test_losses, test_accs = initial_training(10)\n",
        "# print average test loss and average test accs\n",
        "mean_test_losses = sum(test_losses)/len(test_losses)\n",
        "mean_test_accs = sum(test_accs)/len(test_accs)\n",
        "print(\"mean test loss before communication: \", mean_test_losses)\n",
        "print(\"mean test accuracy before communication: \", mean_test_accs)\n",
        "\n",
        "test_losses, test_accs = communication(dictionary_t_1, neighbors_fully_connected, 10, 100)\n",
        "mean_test_losses = sum(test_losses)/len(test_losses)\n",
        "mean_test_accs = sum(test_accs)/len(test_accs)\n",
        "print(\"mean test loss after communication: \", mean_test_losses)\n",
        "print(\"mean test accuracy after communication: \", mean_test_accs)"
      ]
    },
    {
      "cell_type": "markdown",
      "metadata": {
        "id": "f1QD0VDmAcdk"
      },
      "source": [
        "# Our Social Network"
      ]
    },
    {
      "cell_type": "markdown",
      "metadata": {
        "id": "fyOBqMXAAcdk"
      },
      "source": [
        "## 1 epoch, 100 rounds"
      ]
    },
    {
      "cell_type": "code",
      "execution_count": null,
      "metadata": {
        "id": "I2dOtAMdAcdl",
        "outputId": "ae386205-315a-4bd2-8797-b569b32adbd8"
      },
      "outputs": [
        {
          "name": "stdout",
          "output_type": "stream",
          "text": [
            "mean test loss before communication:  1.9492018187046052\n",
            "mean test accuracy before communication:  0.15316293929712457\n",
            "mean test loss after communication:  1.930002419948578\n",
            "mean test accuracy after communication:  0.19610223642172536\n"
          ]
        }
      ],
      "source": [
        "dictionary_t_1, test_losses, test_accs = initial_training(1)\n",
        "# print average test loss and average test accs\n",
        "mean_test_losses = sum(test_losses)/len(test_losses)\n",
        "mean_test_accs = sum(test_accs)/len(test_accs)\n",
        "print(\"mean test loss before communication: \", mean_test_losses)\n",
        "print(\"mean test accuracy before communication: \", mean_test_accs)\n",
        "\n",
        "test_losses, test_accs = communication(dictionary_t_1, neighbors, 1, 100)\n",
        "mean_test_losses = sum(test_losses)/len(test_losses)\n",
        "mean_test_accs = sum(test_accs)/len(test_accs)\n",
        "print(\"mean test loss after communication: \", mean_test_losses)\n",
        "print(\"mean test accuracy after communication: \", mean_test_accs)"
      ]
    },
    {
      "cell_type": "markdown",
      "metadata": {
        "id": "nyQbShS2Acdl"
      },
      "source": [
        "## 5 epochs, 100 rounds"
      ]
    },
    {
      "cell_type": "markdown",
      "metadata": {
        "id": "xgtQRPNJQKnu"
      },
      "source": [
        "### Broadcast Communication"
      ]
    },
    {
      "cell_type": "code",
      "execution_count": null,
      "metadata": {
        "colab": {
          "base_uri": "https://localhost:8080/"
        },
        "id": "H-8L6XrtQeQY",
        "outputId": "b3351d6c-e2ef-4b52-bbc6-72631f70442c"
      },
      "outputs": [
        {
          "name": "stdout",
          "output_type": "stream",
          "text": [
            "mean test loss before communication:  2.407359801530838\n",
            "mean test accuracy before communication:  0.15399361022364202\n",
            "mean test loss after communication:  2.557976485490799\n",
            "mean test accuracy after communication:  0.32514376996805117\n"
          ]
        }
      ],
      "source": [
        "#Using fedAvg technique \n",
        "dictionary_t_1, test_losses, test_accs = initial_training(5, 0.01)\n",
        "mean_test_losses = sum(test_losses)/len(test_losses)\n",
        "mean_test_accs = sum(test_accs)/len(test_accs)\n",
        "print(\"mean test loss before communication: \", mean_test_losses)\n",
        "print(\"mean test accuracy before communication: \", mean_test_accs)\n",
        "\n",
        "test_losses, test_accs = communication(dictionary_t_1, neighbors, 5, 100, 0.01)\n",
        "mean_test_losses = sum(test_losses)/len(test_losses)\n",
        "mean_test_accs = sum(test_accs)/len(test_accs)\n",
        "print(\"mean test loss after communication: \", mean_test_losses)\n",
        "print(\"mean test accuracy after communication: \", mean_test_accs)"
      ]
    },
    {
      "cell_type": "code",
      "execution_count": null,
      "metadata": {
        "colab": {
          "base_uri": "https://localhost:8080/"
        },
        "id": "oGBbBtBsREeG",
        "outputId": "2bbde68b-274a-4ff7-c677-baaa527e6908"
      },
      "outputs": [
        {
          "name": "stdout",
          "output_type": "stream",
          "text": [
            "mean test loss before communication:  2.3787487030029295\n",
            "mean test accuracy before communication:  0.15389776357827464\n",
            "mean test loss after communication:  2.421589039564133\n",
            "mean test accuracy after communication:  0.3638977635782748\n"
          ]
        }
      ],
      "source": [
        "#Using weighted fedAvg\n",
        "dictionary_t_1, test_losses, test_accs = initial_training(5, 0.01)\n",
        "mean_test_losses = sum(test_losses)/len(test_losses)\n",
        "mean_test_accs = sum(test_accs)/len(test_accs)\n",
        "print(\"mean test loss before communication: \", mean_test_losses)\n",
        "print(\"mean test accuracy before communication: \", mean_test_accs)\n",
        "\n",
        "test_losses, test_accs = communication(dictionary_t_1, neighbors, 5, 100, 0.01)\n",
        "mean_test_losses = sum(test_losses)/len(test_losses)\n",
        "mean_test_accs = sum(test_accs)/len(test_accs)\n",
        "print(\"mean test loss after communication: \", mean_test_losses)\n",
        "print(\"mean test accuracy after communication: \", mean_test_accs)"
      ]
    },
    {
      "cell_type": "code",
      "execution_count": null,
      "metadata": {
        "id": "wc3MjnHcAcdm",
        "outputId": "3a9a8046-b377-451d-c7ac-3331ec79332e"
      },
      "outputs": [
        {
          "name": "stdout",
          "output_type": "stream",
          "text": [
            "mean test loss before communication:  2.408725882768631\n",
            "mean test accuracy before communication:  0.15600638977635767\n",
            "mean test loss after communication:  2.1719933092594146\n",
            "mean test accuracy after communication:  0.4841214057507986\n"
          ]
        }
      ],
      "source": [
        "#Using threshold Based Avg\n",
        "#Setting threshold to current client's most recent accuracy\n",
        "dictionary_t_1, test_losses, test_accs = initial_training(5, 0.01)\n",
        "mean_test_losses = sum(test_losses)/len(test_losses)\n",
        "mean_test_accs = sum(test_accs)/len(test_accs)\n",
        "print(\"mean test loss before communication: \", mean_test_losses)\n",
        "print(\"mean test accuracy before communication: \", mean_test_accs)\n",
        "\n",
        "test_losses, test_accs = communication(dictionary_t_1, neighbors, 5, 100, 0.01)\n",
        "mean_test_losses = sum(test_losses)/len(test_losses)\n",
        "mean_test_accs = sum(test_accs)/len(test_accs)\n",
        "print(\"mean test loss after communication: \", mean_test_losses)\n",
        "print(\"mean test accuracy after communication: \", mean_test_accs)"
      ]
    },
    {
      "cell_type": "code",
      "execution_count": null,
      "metadata": {
        "id": "BMak5g7XAcd1",
        "outputId": "780b8705-0e58-47b2-f090-4450562f9f84"
      },
      "outputs": [
        {
          "name": "stdout",
          "output_type": "stream",
          "text": [
            "mean test loss before communication:  2.411843087673187\n",
            "mean test accuracy before communication:  0.15476038338658138\n",
            "mean test loss after communication:  1.9223486149311066\n",
            "mean test accuracy after communication:  0.4947603833865817\n"
          ]
        }
      ],
      "source": [
        "#Setting threshold to current client's most recent accuracy + 0.05\n",
        "dictionary_t_1, test_losses, test_accs = initial_training(5, 0.01)\n",
        "mean_test_losses = sum(test_losses)/len(test_losses)\n",
        "mean_test_accs = sum(test_accs)/len(test_accs)\n",
        "print(\"mean test loss before communication: \", mean_test_losses)\n",
        "print(\"mean test accuracy before communication: \", mean_test_accs)\n",
        "\n",
        "test_losses, test_accs = communication(dictionary_t_1, neighbors, 5, 100, 0.01)\n",
        "mean_test_losses = sum(test_losses)/len(test_losses)\n",
        "mean_test_accs = sum(test_accs)/len(test_accs)\n",
        "print(\"mean test loss after communication: \", mean_test_losses)\n",
        "print(\"mean test accuracy after communication: \", mean_test_accs)"
      ]
    },
    {
      "cell_type": "code",
      "execution_count": null,
      "metadata": {
        "colab": {
          "base_uri": "https://localhost:8080/"
        },
        "id": "dbdF5zpFAcd5",
        "outputId": "d179aa19-e930-427f-d936-e422022c954d"
      },
      "outputs": [
        {
          "name": "stdout",
          "output_type": "stream",
          "text": [
            "mean test loss before communication:  2.398931953907013\n",
            "mean test accuracy before communication:  0.15402555910543117\n",
            "mean test loss after communication:  2.1533005011081694\n",
            "mean test accuracy after communication:  0.4891693290734826\n"
          ]
        }
      ],
      "source": [
        "#Greedy Averaging\n",
        "dictionary_t_1, test_losses, test_accs = initial_training(5, 0.01)\n",
        "mean_test_losses = sum(test_losses)/len(test_losses)\n",
        "mean_test_accs = sum(test_accs)/len(test_accs)\n",
        "print(\"mean test loss before communication: \", mean_test_losses)\n",
        "print(\"mean test accuracy before communication: \", mean_test_accs)\n",
        "\n",
        "test_losses, test_accs = communication(dictionary_t_1, neighbors, 5, 100, 0.01)\n",
        "mean_test_losses = sum(test_losses)/len(test_losses)\n",
        "mean_test_accs = sum(test_accs)/len(test_accs)\n",
        "print(\"mean test loss after communication: \", mean_test_losses)\n",
        "print(\"mean test accuracy after communication: \", mean_test_accs)"
      ]
    },
    {
      "cell_type": "markdown",
      "metadata": {
        "id": "5hSSb4zKQF58"
      },
      "source": [
        "### Gossip Communication"
      ]
    },
    {
      "cell_type": "code",
      "execution_count": null,
      "metadata": {
        "colab": {
          "base_uri": "https://localhost:8080/"
        },
        "id": "tlVmEx9BiteY",
        "outputId": "2b067ebd-08e2-4e25-cf67-b7eba6868255"
      },
      "outputs": [
        {
          "name": "stdout",
          "output_type": "stream",
          "text": [
            "mean test accuracy after communication:  0.3056230031948883\n",
            "mean test loss after communication:  2.9699373984336854\n"
          ]
        }
      ],
      "source": [
        "# gossip and exponential averaging\n",
        "dictionary_t_1, test_losses, test_accs = initial_training(5, 0.01)\n",
        "test_losses, test_accs = gossip_communication(dictionary_t_1, neighbors, 5, 100, 0.01)\n",
        "mean_test_losses = sum(test_losses)/len(test_losses)\n",
        "mean_test_accs = sum(test_accs)/len(test_accs)\n",
        "print(\"mean test accuracy after communication: \", mean_test_accs)\n",
        "print(\"mean test loss after communication: \", mean_test_losses)"
      ]
    },
    {
      "cell_type": "code",
      "execution_count": null,
      "metadata": {
        "colab": {
          "base_uri": "https://localhost:8080/"
        },
        "id": "1q1cL9QblQ1w",
        "outputId": "f4868396-9c20-4f45-c22b-7b9196b3d9ff"
      },
      "outputs": [
        {
          "name": "stdout",
          "output_type": "stream",
          "text": [
            "mean test accuracy after communication:  0.3449840255591053\n",
            "mean test loss after communication:  2.6528512930870054\n"
          ]
        }
      ],
      "source": [
        "# gossip and normalized averaging\n",
        "dictionary_t_1, test_losses, test_accs = initial_training(5, 0.01)\n",
        "test_losses, test_accs = gossip_communication(dictionary_t_1, neighbors, 5, 100, 0.01)\n",
        "mean_test_losses = sum(test_losses)/len(test_losses)\n",
        "mean_test_accs = sum(test_accs)/len(test_accs)\n",
        "print(\"mean test accuracy after communication: \", mean_test_accs)\n",
        "print(\"mean test loss after communication: \", mean_test_losses)"
      ]
    },
    {
      "cell_type": "code",
      "execution_count": null,
      "metadata": {
        "id": "uZYokN0ejjQK"
      },
      "outputs": [],
      "source": [
        "# gossip and federated averaging\n",
        "dictionary_t_1, test_losses, test_accs = initial_training(5, 0.01)\n",
        "test_losses, test_accs = gossip_communication(dictionary_t_1, neighbors, 5, 100, 0.01)\n",
        "mean_test_losses = sum(test_losses)/len(test_losses)\n",
        "mean_test_accs = sum(test_accs)/len(test_accs)\n",
        "print(\"mean test accuracy after communication: \", mean_test_accs)\n",
        "print(\"mean test loss after communication: \", mean_test_losses)"
      ]
    },
    {
      "cell_type": "markdown",
      "metadata": {
        "id": "PRvMkyg0Acd5"
      },
      "source": [
        "## 10 epochs, 100 rounds"
      ]
    },
    {
      "cell_type": "code",
      "execution_count": null,
      "metadata": {
        "id": "iHXbhv9BAcd6",
        "outputId": "d26b11f4-8333-4f59-da08-4e251a964c2f"
      },
      "outputs": [
        {
          "name": "stdout",
          "output_type": "stream",
          "text": [
            "mean test loss before communication:  3.3138426327705384\n",
            "mean test accuracy before communication:  0.16789137380191682\n",
            "mean test loss after communication:  2.671199848651886\n",
            "mean test accuracy after communication:  0.4253354632587859\n"
          ]
        }
      ],
      "source": [
        "dictionary_t_1, test_losses, test_accs = initial_training(10, 0.01)\n",
        "# print average test loss and average test accs\n",
        "mean_test_losses = sum(test_losses)/len(test_losses)\n",
        "mean_test_accs = sum(test_accs)/len(test_accs)\n",
        "print(\"mean test loss before communication: \", mean_test_losses)\n",
        "print(\"mean test accuracy before communication: \", mean_test_accs)\n",
        "\n",
        "test_losses, test_accs = communication(dictionary_t_1, neighbors, 10, 100, 0.01)\n",
        "mean_test_losses = sum(test_losses)/len(test_losses)\n",
        "mean_test_accs = sum(test_accs)/len(test_accs)\n",
        "print(\"mean test loss after communication: \", mean_test_losses)\n",
        "print(\"mean test accuracy after communication: \", mean_test_accs)"
      ]
    },
    {
      "cell_type": "markdown",
      "metadata": {
        "id": "aN1CSPvqAcd7"
      },
      "source": [
        "## 20 epochs, 100 rounds"
      ]
    },
    {
      "cell_type": "code",
      "execution_count": null,
      "metadata": {
        "id": "544btYt6Acd7",
        "outputId": "92bcdc87-37d7-47c2-f1d4-7aae9a19bbcc"
      },
      "outputs": [
        {
          "name": "stdout",
          "output_type": "stream",
          "text": [
            "mean test loss before communication:  3.4152511596679687\n",
            "mean test accuracy before communication:  0.1779233226837061\n",
            "mean test loss after communication:  3.4955796611309053\n",
            "mean test accuracy after communication:  0.2935463258785943\n"
          ]
        }
      ],
      "source": [
        "dictionary_t_1, test_losses, test_accs = initial_training(20)\n",
        "# print average test loss and average test accs\n",
        "mean_test_losses = sum(test_losses)/len(test_losses)\n",
        "mean_test_accs = sum(test_accs)/len(test_accs)\n",
        "print(\"mean test loss before communication: \", mean_test_losses)\n",
        "print(\"mean test accuracy before communication: \", mean_test_accs)\n",
        "\n",
        "test_losses, test_accs = communication(dictionary_t_1, neighbors, 20, 100)\n",
        "mean_test_losses = sum(test_losses)/len(test_losses)\n",
        "mean_test_accs = sum(test_accs)/len(test_accs)\n",
        "print(\"mean test loss after communication: \", mean_test_losses)\n",
        "print(\"mean test accuracy after communication: \", mean_test_accs)"
      ]
    },
    {
      "cell_type": "markdown",
      "metadata": {
        "id": "hf7TOBfQAcd8"
      },
      "source": [
        "## 1 epochs, 10 rounds"
      ]
    },
    {
      "cell_type": "code",
      "execution_count": null,
      "metadata": {
        "id": "h8Hp_N4vAcd8",
        "outputId": "018c65f4-7310-48d8-eb26-e096cf21ed8e"
      },
      "outputs": [
        {
          "name": "stdout",
          "output_type": "stream",
          "text": [
            "mean test loss before communication:  1.9489406883716582\n",
            "mean test accuracy before communication:  0.1485623003194888\n",
            "mean test loss after communication:  1.9430880868434905\n",
            "mean test accuracy after communication:  0.1542811501597442\n"
          ]
        }
      ],
      "source": [
        "dictionary_t_1, test_losses, test_accs = initial_training(1)\n",
        "# print average test loss and average test accs\n",
        "mean_test_losses = sum(test_losses)/len(test_losses)\n",
        "mean_test_accs = sum(test_accs)/len(test_accs)\n",
        "print(\"mean test loss before communication: \", mean_test_losses)\n",
        "print(\"mean test accuracy before communication: \", mean_test_accs)\n",
        "\n",
        "test_losses, test_accs = communication(dictionary_t_1, neighbors, 1, 10)\n",
        "mean_test_losses = sum(test_losses)/len(test_losses)\n",
        "mean_test_accs = sum(test_accs)/len(test_accs)\n",
        "print(\"mean test loss after communication: \", mean_test_losses)\n",
        "print(\"mean test accuracy after communication: \", mean_test_accs)"
      ]
    },
    {
      "cell_type": "markdown",
      "metadata": {
        "id": "LGKRP_wMAcd9"
      },
      "source": [
        "## 5 epochs, 10 rounds"
      ]
    },
    {
      "cell_type": "code",
      "execution_count": null,
      "metadata": {
        "id": "X0x1pql7Acd9",
        "outputId": "f0b76c45-2f0c-461f-81d3-197bd6fff81d"
      },
      "outputs": [
        {
          "name": "stdout",
          "output_type": "stream",
          "text": [
            "mean test loss before communication:  2.146751263141632\n",
            "mean test accuracy before communication:  0.1514057507987219\n",
            "mean test loss after communication:  2.396341060400009\n",
            "mean test accuracy after communication:  0.15214057507987205\n"
          ]
        }
      ],
      "source": [
        "dictionary_t_1, test_losses, test_accs = initial_training(5)\n",
        "# print average test loss and average test accs\n",
        "mean_test_losses = sum(test_losses)/len(test_losses)\n",
        "mean_test_accs = sum(test_accs)/len(test_accs)\n",
        "print(\"mean test loss before communication: \", mean_test_losses)\n",
        "print(\"mean test accuracy before communication: \", mean_test_accs)\n",
        "\n",
        "test_losses, test_accs = communication(dictionary_t_1, neighbors, 5, 10)\n",
        "mean_test_losses = sum(test_losses)/len(test_losses)\n",
        "mean_test_accs = sum(test_accs)/len(test_accs)\n",
        "print(\"mean test loss after communication: \", mean_test_losses)\n",
        "print(\"mean test accuracy after communication: \", mean_test_accs)"
      ]
    },
    {
      "cell_type": "markdown",
      "metadata": {
        "id": "lWQYr_n7Acd-"
      },
      "source": [
        "## 10 epochs, 10 rounds"
      ]
    },
    {
      "cell_type": "code",
      "execution_count": null,
      "metadata": {
        "id": "YhfzRtKFAcd-",
        "outputId": "35f9181e-1eba-430c-b7f9-216b533fe0bc"
      },
      "outputs": [
        {
          "name": "stdout",
          "output_type": "stream",
          "text": [
            "mean test loss before communication:  2.69692032456398\n",
            "mean test accuracy before communication:  0.1590095846645366\n",
            "mean test loss after communication:  3.162060570716858\n",
            "mean test accuracy after communication:  0.17827476038338652\n"
          ]
        }
      ],
      "source": [
        "dictionary_t_1, test_losses, test_accs = initial_training(10)\n",
        "# print average test loss and average test accs\n",
        "mean_test_losses = sum(test_losses)/len(test_losses)\n",
        "mean_test_accs = sum(test_accs)/len(test_accs)\n",
        "print(\"mean test loss before communication: \", mean_test_losses)\n",
        "print(\"mean test accuracy before communication: \", mean_test_accs)\n",
        "\n",
        "test_losses, test_accs = communication(dictionary_t_1, neighbors, 10, 10)\n",
        "mean_test_losses = sum(test_losses)/len(test_losses)\n",
        "mean_test_accs = sum(test_accs)/len(test_accs)\n",
        "print(\"mean test loss after communication: \", mean_test_losses)\n",
        "print(\"mean test accuracy after communication: \", mean_test_accs)"
      ]
    },
    {
      "cell_type": "markdown",
      "metadata": {
        "id": "GCUErv_nAcd_"
      },
      "source": [
        "## Fully Connected Graph Results\n",
        "### (Training with original subgraphs)\n",
        "\n",
        "| Epochs | Communication Rounds | Avg Test Accuracy (Before) | Avg Test Accuracy (After) | Avg Test Loss (Before) | Avg Test Loss (After) |\n",
        "| ------ | -------------------- | -------------------------- | ------------------------- | ---------------------- | --------------------- |\n",
        "| 1      | 100                  | 15.07%                     | 14.29%                    | 1.947                  | 2.083                 |\n",
        "| 5      | 100                  | 14.89%                     | 15.49%                    | 2.021                  | 2.943                 |\n",
        "| 10     | 100                  | 14.73%                     | 14.90%                    | 2.387                  | 5.010                 |\n",
        "\n"
      ]
    },
    {
      "cell_type": "markdown",
      "metadata": {
        "id": "h9LCiNytAceA"
      },
      "source": [
        "## Social Network Graph Results\n",
        "### (Training with original subgraphs)\n",
        "\n",
        "| Epochs | Communication Rounds | Avg Test Accuracy (Before) | Avg Test Accuracy (After) | Avg Test Loss (Before) | Avg Test Loss (After) |\n",
        "| ------ | -------------------- | -------------------------- | ------------------------- | ---------------------- | --------------------- |\n",
        "| 1      | 100                  | 15.13%                     | 14.31%                    | 1.947                  | 1.996                 |\n",
        "| 1      | 10                   | 15.40%                     | 15.12%                    | 1.946                  | 1.945                 |\n",
        "| 5      | 100                  | 14.38%                     | 16.16%                    | 2.028                  | 2.730                 |\n",
        "| 5      | 10                   | 14.52%                     | 14.49%                    | 2.014                  | 2.282                 |\n",
        "| 10     | 100                  | 14.74%                     | 16.07%                    | 2.321                  | 4.402                 |\n",
        "| 10     | 10                   | 14.69%                     | 15.01%                    | 2.349                  | 3.084                 |\n",
        "| 20     | 100                  | 15.39%                     | 18.50%                    | 3.101                  | 4.654                 |\n"
      ]
    },
    {
      "cell_type": "markdown",
      "metadata": {
        "id": "EIPky_8UAceA"
      },
      "source": [
        "## Fully Connected Graph Results\n",
        "### (Training with second order subgraphs)\n",
        "\n",
        "\n",
        "| Epochs | Communication Rounds | Avg Test Accuracy (Before) | Avg Test Accuracy (After) | Avg Test Loss (Before) | Avg Test Loss (After) |\n",
        "| ------ | -------------------- | -------------------------- | ------------------------- | ---------------------- | --------------------- |\n",
        "| 1      | 100                  | 15.02%                     | 19.24%                    | 1.951                  | 2.052                 |\n",
        "| 5      | 100                  | 15.22%                     | 31.80%                    | 2.114                 | 2.614                |\n",
        "| 10     | 100                  | 15.69%                     | 29.41%                    | 2.794                 | 2.932              |"
      ]
    },
    {
      "cell_type": "markdown",
      "metadata": {
        "id": "lA-0xjYPAceB"
      },
      "source": [
        "## Social Network Graphs Results\n",
        "### (Training with second order subgraphs)\n",
        "\n",
        "| Epochs | Communication Rounds | Avg Test Accuracy (Before) | Avg Test Accuracy (After) | Avg Test Loss (Before) | Avg Test Loss (After) |\n",
        "|--------|----------------------|----------------------------|---------------------------|-----------------------|-----------------------|\n",
        "| 1      | 100                  | 0.1532                     | 0.1961                    | 1.9492                | 1.9300                |\n",
        "| 5      | 100                  | 0.1523                     | 0.3180                    | 2.1628                | 2.2851                |\n",
        "| 10     | 100                  | 0.1593                     | 0.3135                    | 2.7872                | 2.9388                |\n",
        "| 20     | 100                  | 0.1779                     | 0.2935                    | 3.4153                | 3.4956                |\n",
        "| 1      | 10                   | 0.1486                     | 0.1543                    | 1.9489                | 1.9431                |\n",
        "| 5      | 10                   | 0.1514                     | 0.1521                    | 2.1468                | 2.3963                |\n",
        "| 10     | 10                   | 0.1590                     | 0.1783                    | 2.6969                | 3.1621                |\n"
      ]
    },
    {
      "cell_type": "markdown",
      "metadata": {
        "id": "J_qjt3S9AceB"
      },
      "source": [
        "# Centralized Training on Entire Cora Dataset"
      ]
    },
    {
      "cell_type": "code",
      "execution_count": null,
      "metadata": {
        "id": "dSq4W82dAceC"
      },
      "outputs": [],
      "source": [
        "# need a dataset class to use the dataloader to set batch size\n",
        "\n",
        "class GraphDataset(torch.utils.data.Dataset):\n",
        "\n",
        "    def __init__(self, graph_data):\n",
        "        self.graph_data = graph_data\n",
        "\n",
        "    def __len__(self):\n",
        "        return len(self.graph_data.x[0])\n",
        "\n",
        "    def __getitem__(self, idx):\n",
        "        print(idx)\n",
        "        x = self.graph_data.x[idx,:]\n",
        "        y = self.graph_data.y[idx]\n",
        "        edge_index = self.graph_data.edge_index\n",
        "        return x, edge_index, y, idx"
      ]
    },
    {
      "cell_type": "code",
      "execution_count": null,
      "metadata": {
        "id": "4bdAc_4hAceC"
      },
      "outputs": [],
      "source": [
        "# training set up for training the centralized model on the entire cora dataset\n",
        "\n",
        "from torchcontrib.optim import SWA\n",
        "import os\n",
        "import networkx as nx\n",
        "from torch.utils.data import DataLoader\n",
        "\n",
        "cora_graph_training = nx.read_gml('cora_graph_training.gml')\n",
        "test_graph = test_data\n",
        "\n",
        "graph_nodes = list(cora_graph_training.nodes)\n",
        "graph_nodes = [int(node) for node in graph_nodes]  # Convert to integer if they are not\n",
        "\n",
        "graph_edge_index, _ = subgraph(graph_nodes, data.edge_index, relabel_nodes=True)\n",
        "graph_data = Data(x=data.x[graph_nodes], edge_index=graph_edge_index, y=data.y[graph_nodes])\n",
        "\n",
        "device = torch.device('cuda' if torch.cuda.is_available() else 'cpu')\n",
        "\n",
        "def train_test(graph_data, epochs, dataset, test_data, device):\n",
        "    model  = GCN(graph_data.num_node_features, dataset.num_classes).to(device)\n",
        "    base_opt = torch.optim.Adam(model.parameters(), lr=0.05, weight_decay=5e-4)\n",
        "    optimizer = SWA(base_opt, swa_start=10, swa_freq=5, swa_lr=0.05)\n",
        "\n",
        "    criterion = torch.nn.CrossEntropyLoss()\n",
        "    epochs = 10\n",
        "    # Training loop for each epoch (adjust the range as needed)\n",
        "    for epoch in range(1, epochs + 1):\n",
        "        train_loss = train(graph_data, model, optimizer, criterion)  # Assuming 'train' returns a loss\n",
        "        val_loss, _ = validate(test_data, model, criterion)         # Assuming 'validate' returns a loss and something else (like accuracy)\n",
        "\n",
        "    optimizer.swap_swa_sgd()\n",
        "    test_loss, test_acc = test(test_data, criterion, model)\n",
        "    print(\"Centralized learning test accuracy: \", test_acc)\n",
        "\n",
        "train_test(graph_data, 10, dataset, test_data, device)"
      ]
    },
    {
      "cell_type": "markdown",
      "metadata": {
        "id": "8Gi0nZ1xAceD"
      },
      "source": [
        "## Centralized Learning with Different Batch Sizes"
      ]
    },
    {
      "cell_type": "code",
      "execution_count": null,
      "metadata": {
        "id": "S1dcOH68AceD"
      },
      "outputs": [],
      "source": [
        "from torch_geometric.data import DataLoader\n",
        "\n",
        "def train_test_batches(graph_data, epochs, dataset, test_data, device, batch_size):\n",
        "    model = GCN(graph_data.num_node_features, dataset.num_classes).to(device)\n",
        "    optimizer = torch.optim.Adam(model.parameters(), lr=0.01, weight_decay=5e-4)\n",
        "    criterion = torch.nn.CrossEntropyLoss()\n",
        "    epochs = 10\n",
        "    # Training loop for each epoch (adjust the range as needed)\n",
        "    for epoch in range(1, epochs + 1):\n",
        "        train_loss = train_batches(graph_data, model, optimizer, criterion, batch_size)  # Assuming 'train' returns a loss\n",
        "        val_loss, _ = validate(test_data, model, criterion)         # Assuming 'validate' returns a loss and something else (like accuracy)\n",
        "\n",
        "    test_loss, test_acc = test(test_data, criterion, model)\n",
        "    print(\"Batch size: \", batch_size)\n",
        "    print(\"Centralized learning test accuracy: \", test_acc)\n",
        "\n",
        "def train_batches(graph_data, model, optimizer, criterion, batch_size):\n",
        "    graph_dataset = GraphDataset(graph_data)\n",
        "    graph_data_loader = DataLoader(graph_dataset, batch_size=batch_size, shuffle=True)\n",
        "    total_loss = 0\n",
        "    model.train()\n",
        "\n",
        "    for i, data in enumerate(graph_data_loader):\n",
        "      x, edge_index, y, idx = data\n",
        "      nodes = list(idx)\n",
        "      sub_edge_index, _ = subgraph(nodes, edge_index[0], relabel_nodes=True)\n",
        "      optimizer.zero_grad()\n",
        "      out = model(x, sub_edge_index)\n",
        "      loss = criterion(out, y)\n",
        "      loss.backward()\n",
        "      optimizer.step()\n",
        "      total_loss += loss.item()\n",
        "\n",
        "    return total_loss/(i+1)\n",
        "\n",
        "print()\n",
        "batch_sizes = [10, 16, 32]\n",
        "for batch_size in batch_sizes:\n",
        "    train_test_batches(graph_data, 10, dataset, test_data, device, batch_size)\n"
      ]
    },
    {
      "cell_type": "markdown",
      "metadata": {
        "id": "Z9DTFBuuAceE"
      },
      "source": [
        "# Testing our Social Network\n",
        "\n",
        "### Adam Optimizer, changing learning rates\n",
        "### 1 epoch, 100 communication rounds"
      ]
    },
    {
      "cell_type": "code",
      "execution_count": null,
      "metadata": {
        "id": "Lx2Iljf7AceE",
        "outputId": "9fd3acc7-df84-4eac-ebd3-3217fc9ad874"
      },
      "outputs": [
        {
          "name": "stdout",
          "output_type": "stream",
          "text": [
            "learning rate:  0.1\n",
            "mean test accuracy after communication:  0.14613418530351427\n",
            "mean test loss after communication:  4.274308376312256\n",
            "\n",
            "learning rate:  0.01\n",
            "mean test accuracy after communication:  0.1946964856230031\n",
            "mean test loss after communication:  1.9461461317539215\n",
            "\n",
            "learning rate:  0.001\n",
            "mean test accuracy after communication:  0.1764536741214057\n",
            "mean test loss after communication:  1.944579039812088\n",
            "\n",
            "learning rate:  0.0001\n",
            "mean test accuracy after communication:  0.16022364217252363\n",
            "mean test loss after communication:  1.9454831516742705\n",
            "\n",
            "learning rate:  1e-05\n",
            "mean test accuracy after communication:  0.11699680511182108\n",
            "mean test loss after communication:  1.9458110272884368\n",
            "\n"
          ]
        }
      ],
      "source": [
        "learning_rates = [0.1, 0.01, 0.001, 0.0001, 0.00001]\n",
        "\n",
        "\n",
        "for learning_rate in learning_rates:\n",
        "    dictionary_t_1, test_losses, test_accs = initial_training(1, learning_rate)\n",
        "\n",
        "    test_losses, test_accs = communication(dictionary_t_1, neighbors, 1, 100, learning_rate)\n",
        "    mean_test_losses = sum(test_losses)/len(test_losses)\n",
        "    mean_test_accs = sum(test_accs)/len(test_accs)\n",
        "    print(\"learning rate: \", learning_rate)\n",
        "    print(\"mean test accuracy after communication: \", mean_test_accs)\n",
        "    print(\"mean test loss after communication: \", mean_test_losses)\n",
        "    print()\n"
      ]
    },
    {
      "cell_type": "markdown",
      "metadata": {
        "id": "iZV_1kvwAceF"
      },
      "source": [
        "### 5 epochs, 100 rounds"
      ]
    },
    {
      "cell_type": "code",
      "execution_count": null,
      "metadata": {
        "id": "tUluJL37AceF",
        "outputId": "14bc4d3a-f7da-4c8d-d6e9-17bf0c814c55"
      },
      "outputs": [
        {
          "name": "stdout",
          "output_type": "stream",
          "text": [
            "learning rate:  0.01\n",
            "mean test accuracy after communication:  0.2996166134185303\n",
            "mean test loss after communication:  2.341976307630539\n",
            "\n",
            "learning rate:  0.001\n",
            "mean test accuracy after communication:  0.21172523961661324\n",
            "mean test loss after communication:  1.9647659862041473\n",
            "\n",
            "learning rate:  0.0001\n",
            "mean test accuracy after communication:  0.24108626198083066\n",
            "mean test loss after communication:  1.9449313080310822\n",
            "\n",
            "learning rate:  1e-05\n",
            "mean test accuracy after communication:  0.22539936102236421\n",
            "mean test loss after communication:  1.94551837682724\n",
            "\n"
          ]
        }
      ],
      "source": [
        "learning_rates = [0.01, 0.001, 0.0001, 0.00001]\n",
        "\n",
        "for learning_rate in learning_rates:\n",
        "    dictionary_t_1, test_losses, test_accs = initial_training(5, learning_rate)\n",
        "\n",
        "    test_losses, test_accs = communication(dictionary_t_1, neighbors, 5, 100, learning_rate)\n",
        "    mean_test_losses = sum(test_losses)/len(test_losses)\n",
        "    mean_test_accs = sum(test_accs)/len(test_accs)\n",
        "    print(\"learning rate: \", learning_rate)\n",
        "    print(\"mean test accuracy after communication: \", mean_test_accs)\n",
        "    print(\"mean test loss after communication: \", mean_test_losses) # print(f\"{mean_test_losses:.4f},{}\\n\")\n",
        "    print()"
      ]
    },
    {
      "cell_type": "markdown",
      "metadata": {
        "id": "D0e0CRxaAceF"
      },
      "source": [
        "### 10 epochs, 100 rounds"
      ]
    },
    {
      "cell_type": "code",
      "execution_count": null,
      "metadata": {
        "id": "aOrzlboxAceG",
        "outputId": "355c7ebe-6d11-4926-b29e-5650d6bda21c"
      },
      "outputs": [
        {
          "name": "stdout",
          "output_type": "stream",
          "text": [
            "learning rate:  0.01\n",
            "mean test accuracy after communication:  0.30837060702875396\n",
            "mean test loss after communication:  2.900534151792526\n",
            "\n",
            "learning rate:  0.001\n",
            "mean test accuracy after communication:  0.23664536741214054\n",
            "mean test loss after communication:  1.9392705142498017\n",
            "\n",
            "learning rate:  0.0001\n",
            "mean test accuracy after communication:  0.20805111821086253\n",
            "mean test loss after communication:  1.9413844859600067\n",
            "\n",
            "learning rate:  1e-05\n",
            "mean test accuracy after communication:  0.20466453674121404\n",
            "mean test loss after communication:  1.945243377685547\n",
            "\n"
          ]
        }
      ],
      "source": [
        "for learning_rate in learning_rates:\n",
        "    dictionary_t_1, test_losses, test_accs = initial_training(10, learning_rate)\n",
        "\n",
        "    test_losses, test_accs = communication(dictionary_t_1, neighbors, 10, 100, learning_rate)\n",
        "    mean_test_losses = sum(test_losses)/len(test_losses)\n",
        "    mean_test_accs = sum(test_accs)/len(test_accs)\n",
        "    print(\"learning rate: \", learning_rate)\n",
        "    print(\"mean test accuracy after communication: \", mean_test_accs)\n",
        "    print(\"mean test loss after communication: \", mean_test_losses)\n",
        "    print()"
      ]
    },
    {
      "cell_type": "code",
      "execution_count": null,
      "metadata": {
        "id": "dHQonltGAceG",
        "outputId": "bad00b9e-0e88-4b67-f2f6-019770fb0855"
      },
      "outputs": [
        {
          "name": "stdout",
          "output_type": "stream",
          "text": [
            "min nodes:  21\n"
          ]
        }
      ],
      "source": [
        "min_nodes = 1000000\n",
        "for subgraph in sub_data_list:\n",
        "    if subgraph.num_nodes < min_nodes:\n",
        "        min_nodes = subgraph.num_nodes\n",
        "print(\"min nodes: \", min_nodes)"
      ]
    },
    {
      "cell_type": "code",
      "execution_count": null,
      "metadata": {
        "id": "Ix0OvoLNAceH"
      },
      "outputs": [],
      "source": [
        "# redefining initial training method and communication method to include batch size as a parameter\n",
        "def initial_training(epochs, learning_rate, batch_size):\n",
        "    test_losses = []\n",
        "    test_accs = []\n",
        "    dictionary_t_1 = {}\n",
        "    dictionary_t = {}\n",
        "\n",
        "    for i in range(len(sub_data_list)):\n",
        "        sub_data = sub_data_list[i]\n",
        "        model = GCN(sub_data.num_node_features, dataset.num_classes).to(device)\n",
        "        optimizer = torch.optim.Adam(model.parameters(), lr=learning_rate, weight_decay=5e-4)\n",
        "        criterion = torch.nn.CrossEntropyLoss()\n",
        "\n",
        "        train_losses = []\n",
        "        val_losses = []\n",
        "\n",
        "        # Training loop for each epoch (adjust the range as needed)\n",
        "        for epoch in range(1, epochs + 1):\n",
        "            train_loss = train_batches(sub_data, model, optimizer, criterion, batch_size)  # Assuming 'train' returns a loss\n",
        "            val_loss, _ = validate(test_data, model, criterion)         # Assuming 'validate' returns a loss and something else (like accuracy)\n",
        "\n",
        "            train_losses.append(train_loss)\n",
        "            val_losses.append(val_loss)\n",
        "\n",
        "\n",
        "        test_loss, test_acc = test(test_data, criterion, model)\n",
        "        test_losses.append(test_loss.item())\n",
        "        test_accs.append(test_acc)\n",
        "        row = i // 10\n",
        "        col = i % 10\n",
        "\n",
        "        model_weights = model.state_dict()\n",
        "        client_number_num = client_number[i]\n",
        "        dictionary_t_1[client_number_num] = model_weights\n",
        "    return dictionary_t_1, test_losses, test_accs\n",
        "\n",
        "def communication(dictionary_t_1_og, neighbors, epochs, rounds, learning_rate, batch_size):\n",
        "    # make a copy of dictionary_t_1\n",
        "    test_losses = []\n",
        "    test_accs = []\n",
        "\n",
        "    dictionary_t_1 = dictionary_t_1_og.copy()\n",
        "    dictionary_t = {}\n",
        "    for k in range(1, rounds + 1):\n",
        "\n",
        "    # get the neighbprs of each client\n",
        "        for i in range(len(sub_data_list)):\n",
        "            sub_data = sub_data_list[i]\n",
        "\n",
        "            model = GCN(sub_data.num_node_features, dataset.num_classes).to(device)\n",
        "            model.load_state_dict(dictionary_t_1[client_number[i]])\n",
        "            optimizer = torch.optim.Adam(model.parameters(), lr=learning_rate, weight_decay=5e-4)\n",
        "            criterion = torch.nn.CrossEntropyLoss()\n",
        "            train_losses = []\n",
        "            val_losses = []\n",
        "\n",
        "            # Training loop for each epoch (adjust the range as needed)\n",
        "            for epoch in range(1, epochs + 1):\n",
        "                train_loss = train_batches(sub_data, model, optimizer, criterion, batch_size)  # Assuming 'train' returns a loss\n",
        "                val_loss, _ = validate(test_data, model, criterion)         # Assuming 'validate' returns a loss and something else (like accuracy)\n",
        "                train_losses.append(train_loss)\n",
        "                val_losses.append(val_loss)\n",
        "            test_loss, test_acc = test(test_data, criterion, model)\n",
        "            if k == rounds:\n",
        "                test_losses.append(test_loss.item())\n",
        "                test_accs.append(test_acc)\n",
        "            # add the model weights to the t -1 dictionary\n",
        "            model_weights = model.state_dict()\n",
        "            client_number_num = client_number[i]\n",
        "            dictionary_t_1[client_number_num] = model_weights\n",
        "\n",
        "        for i in range(100):\n",
        "            client_number_num = client_number[i]\n",
        "            # go through neighbors of client_number\n",
        "            string_client_num = str(client_number_num)\n",
        "            client_neighbors = neighbors[string_client_num]\n",
        "\n",
        "            neighbors_state_dicts = []\n",
        "            neighbors_state_dicts.append(dictionary_t_1[client_number_num])\n",
        "            for j in range(len(client_neighbors)):\n",
        "                # get model weights of neighbor\n",
        "                neighbor_model = dictionary_t_1[int(client_neighbors[j])]\n",
        "                neighbors_state_dicts.append(neighbor_model)\n",
        "\n",
        "            #call some aggregation technique\n",
        "            average_state_dict = {}\n",
        "            average_state_dict = fed_avg(neighbors_state_dicts)\n",
        "            dictionary_t[client_number_num] = average_state_dict\n",
        "\n",
        "        dictionary_t_1 = dictionary_t\n",
        "    return test_losses, test_accs\n",
        "\n",
        "\n",
        "# separate training method to train data in batches\n",
        "def train_batches(graph_data, model, optimizer, criterion, batch_size):\n",
        "    graph_dataset = GraphDataset(graph_data)\n",
        "    graph_data_loader = DataLoader(graph_dataset, batch_size=batch_size, shuffle=True)\n",
        "    total_loss = 0\n",
        "    model.train()\n",
        "    for i, data in enumerate(graph_data_loader):\n",
        "      x, edge_index, y, idx = data\n",
        "      nodes = list(idx)\n",
        "      sub_edge_index, _ = subgraph(nodes, edge_index[0], relabel_nodes=True)\n",
        "      optimizer.zero_grad()\n",
        "      out = model(x, sub_edge_index)\n",
        "      loss = criterion(out, y)\n",
        "      loss.backward()\n",
        "      optimizer.step()\n",
        "      total_loss += loss.item()\n",
        "    return total_loss/(i+1)"
      ]
    },
    {
      "cell_type": "markdown",
      "metadata": {
        "id": "G452liryAceJ"
      },
      "source": [
        "## Using Adam Optimizer, lr = 0.01, and varying batch sizes"
      ]
    },
    {
      "cell_type": "code",
      "execution_count": null,
      "metadata": {
        "id": "jvsG3BPRAceJ",
        "outputId": "50c6e284-7286-432e-ac5a-e25d2cc4003b"
      },
      "outputs": [
        {
          "name": "stderr",
          "output_type": "stream",
          "text": [
            "/Users/malvikavaidya/Documents/UT_Austin/Senior/federated_gnns_project/venv/lib/python3.10/site-packages/torch_geometric/deprecation.py:22: UserWarning: 'data.DataLoader' is deprecated, use 'loader.DataLoader' instead\n",
            "  warnings.warn(out)\n"
          ]
        },
        {
          "name": "stdout",
          "output_type": "stream",
          "text": [
            "batch size:  21\n",
            "mean test accuracy after communication:  0.20945686900958468\n",
            "mean test loss after communication:  2.5040859603881835\n",
            "\n",
            "batch size:  16\n",
            "mean test accuracy after communication:  0.19996805111821092\n",
            "mean test loss after communication:  2.6467595398426056\n",
            "\n",
            "batch size:  32\n",
            "mean test accuracy after communication:  0.2327476038338659\n",
            "mean test loss after communication:  2.3432733058929442\n",
            "\n",
            "batch size:  64\n",
            "mean test accuracy after communication:  0.2380191693290735\n",
            "mean test loss after communication:  2.2191815042495726\n",
            "\n"
          ]
        }
      ],
      "source": [
        "batch_sizes = [21, 16, 32, 64]\n",
        "\n",
        "\n",
        "for batch_size in batch_sizes:\n",
        "    dictionary_t_1, test_losses, test_accs = initial_training(1, 0.01 , batch_size)\n",
        "\n",
        "    test_losses, test_accs = communication(dictionary_t_1, neighbors, 1, 100, 0.01, batch_size)\n",
        "    mean_test_losses = sum(test_losses)/len(test_losses)\n",
        "    mean_test_accs = sum(test_accs)/len(test_accs)\n",
        "    print(\"batch size: \", batch_size)\n",
        "    print(\"mean test accuracy after communication: \", mean_test_accs)\n",
        "    print(\"mean test loss after communication: \", mean_test_losses)\n",
        "    print()"
      ]
    },
    {
      "cell_type": "markdown",
      "metadata": {
        "id": "oo5Z7SXiAceK"
      },
      "source": [
        "### 5 epochs, 100 rounds"
      ]
    },
    {
      "cell_type": "code",
      "execution_count": null,
      "metadata": {
        "id": "d6CcNMHOAceK",
        "outputId": "6cb81a6e-62ba-4ad0-8b29-2309fd2386e1"
      },
      "outputs": [
        {
          "name": "stdout",
          "output_type": "stream",
          "text": [
            "batch size:  32\n",
            "mean test accuracy after communication:  0.23769968051118212\n",
            "mean test loss after communication:  2.8651879513263703\n",
            "\n",
            "batch size:  64\n",
            "mean test accuracy after communication:  0.2750479233226837\n",
            "mean test loss after communication:  2.5840364789962766\n",
            "\n",
            "batch size:  100\n",
            "mean test accuracy after communication:  0.32028753993610204\n",
            "mean test loss after communication:  2.2876565039157866\n",
            "\n",
            "batch size:  128\n",
            "mean test accuracy after communication:  0.3300958466453674\n",
            "mean test loss after communication:  2.2211943471431734\n",
            "\n"
          ]
        }
      ],
      "source": [
        "batch_sizes = [32, 64, 100, 128]\n",
        "\n",
        "for batch_size in batch_sizes:\n",
        "    dictionary_t_1, test_losses, test_accs = initial_training(5, 0.01 , batch_size)\n",
        "\n",
        "    test_losses, test_accs = communication(dictionary_t_1, neighbors, 5, 100, 0.01, batch_size)\n",
        "    mean_test_losses = sum(test_losses)/len(test_losses)\n",
        "    mean_test_accs = sum(test_accs)/len(test_accs)\n",
        "    print(\"batch size: \", batch_size)\n",
        "    print(\"mean test accuracy after communication: \", mean_test_accs)\n",
        "    print(\"mean test loss after communication: \", mean_test_losses)\n",
        "    print()"
      ]
    },
    {
      "cell_type": "code",
      "execution_count": null,
      "metadata": {
        "id": "FS1AGio2AceL",
        "outputId": "c8e0a2f3-f042-400e-a05a-0ea6e13f40ae"
      },
      "outputs": [
        {
          "name": "stdout",
          "output_type": "stream",
          "text": [
            "batch size:  16\n",
            "mean test accuracy after communication:  0.22290734824281155\n",
            "mean test loss after communication:  3.594715747833252\n",
            "\n",
            "batch size:  32\n",
            "mean test accuracy after communication:  0.23463258785942492\n",
            "mean test loss after communication:  3.3052269291877745\n",
            "\n",
            "batch size:  64\n",
            "mean test accuracy after communication:  0.2616293929712461\n",
            "mean test loss after communication:  3.078837525844574\n",
            "\n",
            "batch size:  100\n",
            "mean test accuracy after communication:  0.28284345047923337\n",
            "mean test loss after communication:  2.9073844003677367\n",
            "\n",
            "batch size:  128\n",
            "mean test accuracy after communication:  0.2906389776357827\n",
            "mean test loss after communication:  2.9034778940677644\n",
            "\n"
          ]
        }
      ],
      "source": [
        "batch_sizes = [16, 32, 64, 100, 128]\n",
        "\n",
        "for batch_size in batch_sizes:\n",
        "    dictionary_t_1, test_losses, test_accs = initial_training(10, 0.01 , batch_size)\n",
        "\n",
        "    test_losses, test_accs = communication(dictionary_t_1, neighbors, 10, 100, 0.01, batch_size)\n",
        "    mean_test_losses = sum(test_losses)/len(test_losses)\n",
        "    mean_test_accs = sum(test_accs)/len(test_accs)\n",
        "    print(\"batch size: \", batch_size)\n",
        "    print(\"mean test accuracy after communication: \", mean_test_accs)\n",
        "    print(\"mean test loss after communication: \", mean_test_losses)\n",
        "    print()"
      ]
    },
    {
      "cell_type": "markdown",
      "metadata": {
        "id": "Tyt2l9zOAceM"
      },
      "source": [
        "# Differential Privacy"
      ]
    },
    {
      "cell_type": "code",
      "execution_count": null,
      "metadata": {
        "id": "YA_fcK8QAceM"
      },
      "outputs": [],
      "source": [
        "import torch\n",
        "import torch.nn as nn\n",
        "\n",
        "class DifferentiallyPrivateGCN(nn.Module):\n",
        "    def __init__(self, gcn_model, lr, noise_multiplier):\n",
        "        super(DifferentiallyPrivateGCN, self).__init__()\n",
        "        self.gcn_model = gcn_model\n",
        "        self.lr = lr\n",
        "        self.noise_multiplier = noise_multiplier\n",
        "        self.optimizer = torch.optim.Adam(self.gcn_model.parameters(), lr=self.lr, weight_decay=5e-4)\n",
        "\n",
        "    def forward(self, x, edge_index):\n",
        "        return self.gcn_model(x, edge_index)\n",
        "\n",
        "    def train_step(self, x, edge_index, y):\n",
        "        self.optimizer.zero_grad()\n",
        "        output = self.forward(x, edge_index)\n",
        "        criterion = torch.nn.CrossEntropyLoss()\n",
        "        loss = criterion(output, y)\n",
        "        loss.backward()\n",
        "\n",
        "        for param in self.gcn_model.parameters():\n",
        "            noise = torch.randn_like(param.grad) * self.noise_multiplier\n",
        "            param.grad.add_(noise)\n",
        "\n",
        "        self.optimizer.step()\n",
        "\n",
        "        return output, loss"
      ]
    },
    {
      "cell_type": "markdown",
      "metadata": {},
      "source": [
        "### Updated training and communication methods to account for differential privacy model"
      ]
    },
    {
      "cell_type": "code",
      "execution_count": null,
      "metadata": {
        "id": "e7OMB8bXAceN"
      },
      "outputs": [],
      "source": [
        "\n",
        "import matplotlib.pyplot as plt\n",
        "\n",
        "\n",
        "def test(test_data, criterion, model):\n",
        "      test_data = test_data.to(device)\n",
        "      model.eval()\n",
        "      out = model(test_data.x, test_data.edge_index)\n",
        "      pred = out.argmax(dim=1)  # Use the class with highest probability.\n",
        "      test_correct = pred == test_data.y # Check against ground-truth labels.\n",
        "      test_acc = int(test_correct.sum()) / len(test_data.y)  # Derive ratio of correct predictions.\n",
        "      test_loss = criterion(out, test_data.y)  # Compute validation loss\n",
        "\n",
        "      return test_loss, test_acc\n",
        "\n",
        "\n",
        "def validate(test_data, model, criterion):\n",
        "    model.eval()  # Set the model to evaluation mode\n",
        "    test_data = test_data.to(device)\n",
        "\n",
        "    with torch.no_grad():  # Do not compute gradients during this step\n",
        "        out = model(test_data.x, test_data.edge_index)  # Forward pass\n",
        "        pred = out.argmax(dim=1)  # Get predicted classes\n",
        "        val_correct = pred == test_data.y # Compare with ground-truth\n",
        "        val_loss = criterion(out, test_data.y)  # Compute validation loss\n",
        "        val_acc = int(val_correct.sum()) / int(len(test_data.y))  # Compute validation accuracy\n",
        "    return val_loss.item(), val_acc\n",
        "\n",
        "\n",
        "def initial_training(epochs, learning_rate):\n",
        "    test_losses = []\n",
        "    test_accs = []\n",
        "    dictionary_t_1 = {}\n",
        "    dictionary_t = {}\n",
        "\n",
        "    for i in range(len(sub_data_list)):\n",
        "        sub_data = sub_data_list[i]\n",
        "        gcn_model = GCN(sub_data.num_node_features, dataset.num_classes).to(device)\n",
        "        model = DifferentiallyPrivateGCN(gcn_model, learning_rate, 0.01)\n",
        "        criterion = torch.nn.CrossEntropyLoss()\n",
        "        train_losses = []\n",
        "        val_losses = []\n",
        "\n",
        "        # Training loop for each epoch (adjust the range as needed)\n",
        "        for epoch in range(1, epochs + 1):\n",
        "            model.train()  # Set the model to training mode\n",
        "            sub_data = sub_data.to(device)\n",
        "            output, loss = model.train_step(sub_data.x, sub_data.edge_index, sub_data.y)\n",
        "            train_losses.append(loss.item())\n",
        "            val_loss, _ = validate(test_data, model, criterion)  # Assuming 'validate' returns a loss and something else (like accuracy)\n",
        "            val_losses.append(val_loss)\n",
        "            \n",
        "        test_loss, test_acc = test(test_data, criterion, model)\n",
        "        test_losses.append(test_loss.item())\n",
        "        test_accs.append(test_acc)\n",
        "        model_weights =  model.gcn_model.state_dict()\n",
        "        client_number_num = client_number[i]\n",
        "        dictionary_t_1[client_number_num] = model_weights\n",
        "\n",
        "    return dictionary_t_1, test_losses, test_accs"
      ]
    },
    {
      "cell_type": "code",
      "execution_count": null,
      "metadata": {
        "id": "FnCUdNv2AceO"
      },
      "outputs": [],
      "source": [
        "def communication(dictionary_t_1_og, neighbors, epochs, rounds, learning_rate):\n",
        "    # make a copy of dictionary_t_1\n",
        "    test_losses = []\n",
        "    test_accs = []\n",
        "    dictionary_t_1 = dictionary_t_1_og.copy()\n",
        "    dictionary_t = {}\n",
        "    t_1_accuracies = {}\n",
        "\n",
        "    for k in range(1, rounds + 1):\n",
        "\n",
        "    # get the neighbprs of each client\n",
        "        for i in range(len(sub_data_list)):\n",
        "            sub_data = sub_data_list[i]\n",
        "\n",
        "            gcn_model = GCN(sub_data.num_node_features, dataset.num_classes).to(device)\n",
        "            state_dict = dictionary_t_1[client_number[i]]\n",
        "            gcn_model.load_state_dict(state_dict)\n",
        "            model = DifferentiallyPrivateGCN(gcn_model, learning_rate, 0.01)\n",
        "            criterion = torch.nn.CrossEntropyLoss()\n",
        "            train_losses = []\n",
        "            val_losses = []\n",
        "            for epoch in range(1, epochs + 1):\n",
        "\n",
        "                model.train()\n",
        "                output, loss = model.train_step(sub_data.x, sub_data.edge_index, sub_data.y)\n",
        "                train_losses.append(loss.item())\n",
        "                val_loss, _ = validate(test_data, model, criterion)\n",
        "                val_losses.append(val_loss)\n",
        "\n",
        "            test_loss, test_acc = test(test_data, criterion, model)\n",
        "            if k == rounds:\n",
        "                test_losses.append(test_loss.item())\n",
        "                test_accs.append(test_acc)\n",
        "\n",
        "            # add the model weights to the t -1 dictionary\n",
        "            model_weights =  model.gcn_model.state_dict()\n",
        "            client_number_num = client_number[i]\n",
        "            dictionary_t_1[client_number_num] = model_weights\n",
        "            t_1_accuracies[client_number_num] = test_acc\n",
        "\n",
        "        for i in range(100):\n",
        "            client_number_num = client_number[i]\n",
        "            # go through neighbors of client_number\n",
        "            string_client_num = str(client_number_num)\n",
        "            client_neighbors = neighbors[string_client_num]\n",
        "\n",
        "            neighbors_state_dicts = []\n",
        "            neighbors_state_dicts.append(dictionary_t_1[client_number_num])\n",
        "            accuracies = []\n",
        "            accuracies.append(t_1_accuracies[client_number_num])\n",
        "            for j in range(len(client_neighbors)):\n",
        "                # get model weights of neighbor\n",
        "                neighbor_model = dictionary_t_1[int(client_neighbors[j])]\n",
        "                neighbors_state_dicts.append(neighbor_model)\n",
        "                accuracies.append(t_1_accuracies[int(client_neighbors[j])])\n",
        "\n",
        "            #call some aggregation technique\n",
        "            average_state_dict = {}\n",
        "            average_state_dict = exponential_weighted_fed_avg(neighbors_state_dicts, accuracies)\n",
        "            dictionary_t[client_number_num] = average_state_dict\n",
        "\n",
        "        dictionary_t_1 = dictionary_t\n",
        "\n",
        "    return test_losses, test_accs"
      ]
    },
    {
      "cell_type": "markdown",
      "metadata": {},
      "source": [
        "## Training using Differential Privacy"
      ]
    },
    {
      "cell_type": "code",
      "execution_count": null,
      "metadata": {
        "colab": {
          "base_uri": "https://localhost:8080/"
        },
        "id": "AolRxLf5cd5-",
        "outputId": "e9d89a69-1269-47e4-e76e-f9cb8cb1ef21"
      },
      "outputs": [
        {
          "name": "stdout",
          "output_type": "stream",
          "text": [
            "mean test accuracy after communication:  0.6625878594249202\n",
            "mean test loss after communication:  1.139604046344757\n"
          ]
        }
      ],
      "source": [
        "# differential privacy and exponential averaging\n",
        "dictionary_t_1, test_losses, test_accs = initial_training(5, 0.01)\n",
        "test_losses, test_accs = communication(dictionary_t_1, neighbors, 5, 100, 0.01)\n",
        "mean_test_losses = sum(test_losses)/len(test_losses)\n",
        "mean_test_accs = sum(test_accs)/len(test_accs)\n",
        "print(\"mean test accuracy after communication: \", mean_test_accs)\n",
        "print(\"mean test loss after communication: \", mean_test_losses)"
      ]
    },
    {
      "cell_type": "code",
      "execution_count": null,
      "metadata": {
        "colab": {
          "base_uri": "https://localhost:8080/"
        },
        "id": "jwgpa2Xhc89W",
        "outputId": "717df0a0-cce9-4289-9aaf-b94daab3711a"
      },
      "outputs": [
        {
          "name": "stdout",
          "output_type": "stream",
          "text": [
            "mean test accuracy after communication:  0.65814696485623\n",
            "mean test loss after communication:  1.1924089205265045\n"
          ]
        }
      ],
      "source": [
        "# differential privacy and normalized averaging\n",
        "dictionary_t_1, test_losses, test_accs = initial_training(5, 0.01)\n",
        "test_losses, test_accs = communication(dictionary_t_1, neighbors, 5, 100, 0.01)\n",
        "mean_test_losses = sum(test_losses)/len(test_losses)\n",
        "mean_test_accs = sum(test_accs)/len(test_accs)\n",
        "print(\"mean test accuracy after communication: \", mean_test_accs)\n",
        "print(\"mean test loss after communication: \", mean_test_losses)"
      ]
    },
    {
      "cell_type": "code",
      "execution_count": null,
      "metadata": {
        "id": "hEYkyMv7AceP"
      },
      "outputs": [],
      "source": [
        "communication_rounds = [1, 5, 10, 20, 30, 40, 50, 60, 70, 80, 90, 100]"
      ]
    },
    {
      "cell_type": "code",
      "execution_count": null,
      "metadata": {
        "colab": {
          "base_uri": "https://localhost:8080/"
        },
        "id": "6ZTI7_QXAceP",
        "outputId": "29561ccd-18f4-4365-ab84-9a4078ea3a8f"
      },
      "outputs": [
        {
          "name": "stdout",
          "output_type": "stream",
          "text": [
            "round:  1\n",
            "mean test accuracy after communication:  0.15159744408945675\n",
            "mean test loss after communication:  2.4348197722435\n",
            "round:  5\n",
            "mean test accuracy after communication:  0.23798722044728446\n",
            "mean test loss after communication:  1.890577154159546\n",
            "round:  10\n",
            "mean test accuracy after communication:  0.32920127795527165\n",
            "mean test loss after communication:  1.7388195419311523\n",
            "round:  20\n",
            "mean test accuracy after communication:  0.5144408945686904\n",
            "mean test loss after communication:  1.4288203847408294\n",
            "round:  30\n",
            "mean test accuracy after communication:  0.5555910543130993\n",
            "mean test loss after communication:  1.4035931396484376\n",
            "round:  40\n",
            "mean test accuracy after communication:  0.5715335463258784\n",
            "mean test loss after communication:  1.4454518449306488\n",
            "round:  50\n",
            "mean test accuracy after communication:  0.5746006389776357\n",
            "mean test loss after communication:  1.3649107885360718\n",
            "round:  60\n",
            "mean test accuracy after communication:  0.6522683706070288\n",
            "mean test loss after communication:  1.1720077800750732\n",
            "round:  70\n",
            "mean test accuracy after communication:  0.693290734824281\n",
            "mean test loss after communication:  1.1230378991365433\n",
            "round:  80\n",
            "mean test accuracy after communication:  0.685335463258786\n",
            "mean test loss after communication:  1.1869358086586\n",
            "round:  90\n",
            "mean test accuracy after communication:  0.7462300319488822\n",
            "mean test loss after communication:  0.9768103450536728\n",
            "round:  100\n"
          ]
        }
      ],
      "source": [
        "mean_accs_list = []\n",
        "for round in communication_rounds:\n",
        "    print(\"round: \", round)\n",
        "    dictionary_t_1, test_losses, test_accs = initial_training(5, 0.01)\n",
        "    test_losses, test_accs = communication(dictionary_t_1, neighbors, 5, round, 0.01)\n",
        "    mean_test_losses = sum(test_losses)/len(test_losses)\n",
        "    mean_test_accs = sum(test_accs)/len(test_accs)\n",
        "    mean_accs_list.append(mean_test_accs)\n",
        "    print(\"mean test accuracy after communication: \", mean_test_accs)\n",
        "    print(\"mean test loss after communication: \", mean_test_losses)"
      ]
    },
    {
      "cell_type": "code",
      "execution_count": null,
      "metadata": {
        "id": "5O8h-eOoAceP",
        "outputId": "f5b46afe-4a61-44e1-b44d-1aec4c3c1e04"
      },
      "outputs": [
        {
          "name": "stdout",
          "output_type": "stream",
          "text": [
            "[0.1532587859424919, 0.14533546325878577, 0.1467412140575078, 0.1557188498402554, 0.19044728434504798, 0.3314376996805111, 0.45261980830670934, 0.5071246006389777, 0.5819169329073481, 0.6315015974440897, 0.6581789137380193, 0.6551757188498404]\n"
          ]
        }
      ],
      "source": [
        "print(mean_accs_list)"
      ]
    },
    {
      "cell_type": "code",
      "execution_count": null,
      "metadata": {
        "id": "H3s2qpriAceQ"
      },
      "outputs": [],
      "source": [
        "threshold_accs= [0.15418530351437687, 0.20492012779552715, 0.2885303514376998, 0.47063897763578266, 0.5449840255591053, 0.5782747603833865, 0.6622044728434509, 0.6706070287539937, 0.69444089456869, 0.7167412140575081, 0.6636421725239617, 0.7298402555910544]\n",
        "fed_avg_accs = [0.15603833865814687, 0.14603833865814678, 0.1497124600638976, 0.15562300319488803, 0.18904153354632583, 0.2844728434504793, 0.4249520766773161, 0.5192012779552715, 0.5854952076677317, 0.6473482428115015, 0.6533865814696486, 0.658594249201278]\n",
        "weighted_avg_accs = [0.1532587859424919, 0.14533546325878577, 0.1467412140575078, 0.1557188498402554, 0.19044728434504798, 0.3314376996805111, 0.45261980830670934, 0.5071246006389777, 0.5819169329073481, 0.6315015974440897, 0.6581789137380193, 0.6551757188498404]"
      ]
    },
    {
      "cell_type": "code",
      "execution_count": null,
      "metadata": {
        "id": "iKK-3sxgAceR",
        "outputId": "c429918e-f6a5-4dcc-8f58-43733d267e9e"
      },
      "outputs": [
        {
          "data": {
            "image/png": "[encoded data removed]",
            "text/plain": [
              "<Figure size 864x504 with 1 Axes>"
            ]
          },
          "metadata": {
            "needs_background": "light"
          },
          "output_type": "display_data"
        }
      ],
      "source": [
        "#plotting the test accuracies\n",
        "\n",
        "import matplotlib.pyplot as plt\n",
        "\n",
        "plt.figure(figsize=(12, 7))\n",
        "plt.plot(communication_rounds, fed_avg_accs)\n",
        "plt.plot(communication_rounds, weighted_avg_accs)\n",
        "plt.plot(communication_rounds, threshold_accs)\n",
        "\n",
        "\n",
        "plt.legend([\"FedAvg\", \"Weighted Avg\", \"Threshold Weighted Avg\"])\n",
        "plt.grid()\n",
        "plt.title(\"Average Test Accuracies over Communication Rounds with Gradient Noise\")\n",
        "plt.show()\n"
      ]
    },
    {
      "cell_type": "code",
      "execution_count": null,
      "metadata": {
        "id": "V0wUQteYAceR",
        "outputId": "c76e9dfc-d2d6-4012-883f-8e9611e7a48a"
      },
      "outputs": [
        {
          "data": {
            "image/png": "[encoded data removed]",
            "text/plain": [
              "<Figure size 432x288 with 1 Axes>"
            ]
          },
          "metadata": {
            "needs_background": "light"
          },
          "output_type": "display_data"
        }
      ],
      "source": [
        "#plot test accuracies\n",
        "import matplotlib.pyplot as plt\n",
        "\n",
        "plt.hist(test_accs)\n",
        "plt.title(\"Test accuracies\")\n",
        "plt.show()"
      ]
    },
    {
      "cell_type": "markdown",
      "metadata": {
        "id": "0ar3LbaYAceS"
      },
      "source": [
        "On Centralized Model"
      ]
    },
    {
      "cell_type": "code",
      "execution_count": null,
      "metadata": {
        "id": "0fxFsU9OAceS",
        "outputId": "6d9a9651-55b3-4b8d-986f-c84cad22ac28"
      },
      "outputs": [
        {
          "name": "stdout",
          "output_type": "stream",
          "text": [
            "Centralized learning test accuracy:  0.3226837060702875\n"
          ]
        }
      ],
      "source": [
        "# testing differential privacy model on centralized learning to see whether a similar improvement occurs\n",
        "\n",
        "from torchcontrib.optim import SWA\n",
        "import os\n",
        "import networkx as nx\n",
        "from torch.utils.data import DataLoader\n",
        "\n",
        "cora_graph_training = nx.read_gml('cora_graph_training.gml')\n",
        "test_graph = test_data\n",
        "\n",
        "graph_nodes = list(cora_graph_training.nodes)\n",
        "graph_nodes = [int(node) for node in graph_nodes]  # Convert to integer if they are not\n",
        "\n",
        "graph_edge_index, _ = subgraph(graph_nodes, data.edge_index, relabel_nodes=True)\n",
        "graph_data = Data(x=data.x[graph_nodes], edge_index=graph_edge_index, y=data.y[graph_nodes])\n",
        "\n",
        "device = torch.device('cuda' if torch.cuda.is_available() else 'cpu')\n",
        "\n",
        "def train_test(graph_data, epochs, dataset, test_data, device):\n",
        "    model  = GCN(graph_data.num_node_features, dataset.num_classes).to(device)\n",
        "    private_model = DifferentiallyPrivateGCN(model, 0.01, 0.01)\n",
        "    optimizer = torch.optim.Adam(model.parameters(), lr=0.05, weight_decay=5e-4)\n",
        "    criterion = torch.nn.CrossEntropyLoss()\n",
        "    epochs = 10\n",
        "    # Training loop for each epoch (adjust the range as needed)\n",
        "    for epoch in range(1, epochs + 1):\n",
        "        output, loss = private_model.train_step(graph_data.x, graph_data.edge_index, graph_data.y)\n",
        "        train_losses.append(loss.item())\n",
        "        val_loss, _ = validate(test_data, private_model, criterion)\n",
        "        val_losses.append(val_loss)\n",
        "\n",
        "    test_loss, test_acc = test(test_data, criterion, private_model)\n",
        "    print(\"Centralized learning test accuracy: \", test_acc)\n",
        "\n",
        "train_test(graph_data, 10, dataset, test_data, device)\n"
      ]
    }
  ],
  "metadata": {
    "accelerator": "GPU",
    "colab": {
      "gpuType": "T4",
      "provenance": []
    },
    "kernelspec": {
      "display_name": "Python 3",
      "name": "python3"
    },
    "language_info": {
      "codemirror_mode": {
        "name": "ipython",
        "version": 3
      },
      "file_extension": ".py",
      "mimetype": "text/x-python",
      "name": "python",
      "nbconvert_exporter": "python",
      "pygments_lexer": "ipython3",
      "version": "3.9.5"
    },
    "orig_nbformat": 4
  },
  "nbformat": 4,
  "nbformat_minor": 0
}
