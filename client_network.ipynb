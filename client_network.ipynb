{
 "cells": [
  {
   "cell_type": "code",
   "execution_count": null,
   "metadata": {},
   "outputs": [],
   "source": [
    "import networkx as nx\n",
    "import random\n",
    "import tarfile"
   ]
  },
  {
   "cell_type": "markdown",
   "metadata": {},
   "source": [
    "# Method 1: Randomly selecting 100 nodes from graph "
   ]
  },
  {
   "cell_type": "code",
   "execution_count": null,
   "metadata": {},
   "outputs": [],
   "source": [
    "with tarfile.open(\"facebook.tar.gz\", \"r:gz\") as tar:\n",
    "    tar.extractall(path=\"facebook_data/\")\n",
    "    file_list = tar.getnames()\n",
    "\n",
    "\n",
    "facebook_file = \"facebook_data/\" + file_list[0]  \n",
    "\n",
    "parse data and form connections\n",
    "G = nx.Graph()\n",
    "with open(facebook_file, 'r') as f:\n",
    "    for line in f:\n",
    "        user1, user2 = map(int, line.strip().split())\n",
    "        G.add_edge(user1, user2)"
   ]
  },
  {
   "cell_type": "code",
   "execution_count": null,
   "metadata": {},
   "outputs": [],
   "source": [
    "new_G = nx.Graph()\n",
    "selected_nodes = random.sample(list(G.nodes()), 100)\n",
    "\n",
    "# add edges if exist in original graph\n",
    "for i in range(100):\n",
    "    for j in range(i+1, 100):\n",
    "        if G.has_edge(selected_nodes[i], selected_nodes[j]):\n",
    "            new_G.add_edge(selected_nodes[i], selected_nodes[j])\n",
    "\n",
    "print(f\"New Graph has {new_G.number_of_nodes()} nodes and {new_G.number_of_edges()} edges.\")\n",
    "nx.write_edgelist(new_G, \"new_facebook_network.txt\")"
   ]
  },
  {
   "cell_type": "markdown",
   "metadata": {},
   "source": [
    "# Method 2: Random walk sampling\n",
    "\n",
    "Start at a random and node and perform a \"random walk.\" At each step, with a given probability, continue the walk to a neighboring node or stop the walk. If the walk stops, start another random walk at a node that hasn't been visited."
   ]
  },
  {
   "cell_type": "code",
   "execution_count": null,
   "metadata": {},
   "outputs": [],
   "source": [
    "def random_walk_sampling(G, num_nodes):\n",
    "    sampled_graph = nx.Graph()\n",
    "    all_nodes = list(G.nodes())\n",
    "    \n",
    "    visited = set()\n",
    "\n",
    "    while len(visited) < num_nodes:\n",
    "        if not all_nodes:\n",
    "            break\n",
    "        \n",
    "        start_node = random.choice(all_nodes)\n",
    "        if start_node in visited:\n",
    "            all_nodes.remove(start_node)\n",
    "            continue\n",
    "        \n",
    "        current_path = [start_node]\n",
    "        \n",
    "        while True:\n",
    "            neighbors = list(G.neighbors(current_path[-1]))\n",
    "            neighbors = [n for n in neighbors if n not in visited and n not in current_path]\n",
    "\n",
    "            if not neighbors:\n",
    "                break\n",
    "\n",
    "            next_node = random.choice(neighbors)\n",
    "            current_path.append(next_node)\n",
    "\n",
    "            if len(visited) + len(current_path) > num_nodes:\n",
    "                break\n",
    "\n",
    "        visited.update(current_path[:num_nodes-len(visited)])\n",
    "        for i in range(1, len(current_path)):\n",
    "            sampled_graph.add_edge(current_path[i-1], current_path[i])\n",
    "\n",
    "    return sampled_graph"
   ]
  }
 ],
 "metadata": {
  "language_info": {
   "name": "python"
  },
  "orig_nbformat": 4
 },
 "nbformat": 4,
 "nbformat_minor": 2
}
